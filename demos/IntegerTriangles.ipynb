{
 "cells": [
  {
   "cell_type": "markdown",
   "metadata": {},
   "source": [
    "<html><h1 style=\"background: -webkit-gradient(linear,left top,left bottom,from(#fff),to(#efefef)); border-radius: 10px; box-shadow: 0 0 4px;\n",
    "width: 100%; border: 1px solid grey; padding: 1em; box-sizing: border-box; margin-top: 5px; margin-bottom: 5px; text-align: center; background: brown; color: white; letter-spacing: 2px; font-weight: bold;line-height: 48px;\">Integer Triangles Trait Cards<br>Computed with Julia<br><a href=\"http://luschny.de/julia/triangles/TutorialTrianglesPart1.html\">(See also the Tutorial)</a></h1>"
   ]
  },
  {
   "cell_type": "code",
   "execution_count": null,
   "metadata": {},
   "outputs": [],
   "source": [
    "# Pkg.add(PackageSpec(url=\"https://github.com/OpenLibMathSeq/IntegerTriangles.jl\"))\n",
    "# Pkg.add(\"IntegerTriangles.jl\"))"
   ]
  },
  {
   "cell_type": "code",
   "execution_count": null,
   "metadata": {},
   "outputs": [],
   "source": [
    "using IntegerTriangles"
   ]
  },
  {
   "cell_type": "markdown",
   "metadata": {},
   "source": [
    "Definition: A *integer triangle* is an array of arrays whose members are integers. \n",
    "It has the type **ℤTri**.\n",
    "\n",
    "An integer is a multiple precision integer which is created by the constructor **ℤInt**.\n",
    "\n",
    "The row of an integer triangle is an integer sequence, **ℤSeq**.\n",
    "\n",
    "Examples for the creation of an integer triangle:"
   ]
  },
  {
   "cell_type": "code",
   "execution_count": null,
   "metadata": {},
   "outputs": [],
   "source": [
    "[[ℤInt(k) for k in 0:n] for n in 0:6]"
   ]
  },
  {
   "cell_type": "code",
   "execution_count": null,
   "metadata": {},
   "outputs": [],
   "source": [
    "ℤSeq(7, n -> ℤInt(n))"
   ]
  },
  {
   "cell_type": "code",
   "execution_count": null,
   "metadata": {},
   "outputs": [],
   "source": [
    "T = Telescope(6, n -> ℤInt(n)) \n",
    "Println.(T)"
   ]
  },
  {
   "cell_type": "markdown",
   "metadata": {},
   "source": [
    "The shape of the triangle is /not/ fixed. It includes the cases denoted by the OEIS keywords *tabl* and *tabf*. We allow the empty sequence to be element of an integer triangle."
   ]
  },
  {
   "cell_type": "code",
   "execution_count": null,
   "metadata": {},
   "outputs": [],
   "source": [
    "function Divisors(n) \n",
    "    n == 0 && return ℤSeq()\n",
    "    [ℤInt(d) for d in 1:n if rem(n, d) == 0]\n",
    "end"
   ]
  },
  {
   "cell_type": "code",
   "execution_count": null,
   "metadata": {},
   "outputs": [],
   "source": [
    "ℤTri(9, Divisors)"
   ]
  },
  {
   "cell_type": "code",
   "execution_count": null,
   "metadata": {},
   "outputs": [],
   "source": [
    "D = ℤTri(9, Divisors)\n",
    "isa(D, ℤTri)"
   ]
  },
  {
   "cell_type": "code",
   "execution_count": null,
   "metadata": {},
   "outputs": [],
   "source": [
    "import Base.sum\n",
    "sum(T::ℤTri) = sum.(T)"
   ]
  },
  {
   "cell_type": "code",
   "execution_count": null,
   "metadata": {},
   "outputs": [],
   "source": [
    "sum(Divisors.(0:7))"
   ]
  },
  {
   "cell_type": "code",
   "execution_count": null,
   "metadata": {},
   "outputs": [],
   "source": [
    "S = ℤSeq(5) "
   ]
  },
  {
   "cell_type": "code",
   "execution_count": null,
   "metadata": {},
   "outputs": [],
   "source": [
    "T = ℤTri(5) "
   ]
  },
  {
   "cell_type": "markdown",
   "metadata": {},
   "source": [
    "If the keyword 'reg' is set to true, the constructor returns an uninitialized regular triangle."
   ]
  },
  {
   "cell_type": "code",
   "execution_count": null,
   "metadata": {},
   "outputs": [],
   "source": [
    "T = ℤTri(6, reg=true) "
   ]
  },
  {
   "cell_type": "code",
   "execution_count": null,
   "metadata": {
    "scrolled": true
   },
   "outputs": [],
   "source": [
    "for n in 1:6 T[n] = [ℤInt(k) for k in 1:n] end\n",
    "T"
   ]
  },
  {
   "cell_type": "code",
   "execution_count": null,
   "metadata": {},
   "outputs": [],
   "source": [
    "T[3]"
   ]
  },
  {
   "cell_type": "code",
   "execution_count": null,
   "metadata": {},
   "outputs": [],
   "source": [
    "T[3][2]"
   ]
  },
  {
   "cell_type": "code",
   "execution_count": null,
   "metadata": {},
   "outputs": [],
   "source": [
    "isa(T, ℤTri) |> println\n",
    "isa(T[3], ℤSeq) |> println\n",
    "isa(T[3][2], ℤInt) |> println"
   ]
  },
  {
   "cell_type": "code",
   "execution_count": null,
   "metadata": {},
   "outputs": [],
   "source": [
    "function LahIndexed(n, k)\n",
    "    function recLah(n, k)\n",
    "        k  < 0 && return ℤInt(0)\n",
    "        k == n && return ℤInt(1)\n",
    "        recLah(n-1, k-1) + recLah(n-1, k)*(n+k-1)\n",
    "    end\n",
    "    recLah(n, k)\n",
    "end\n",
    "\n",
    "[[LahIndexed(n, k) for k in 0:n] for n in 0:6]"
   ]
  },
  {
   "cell_type": "markdown",
   "metadata": {},
   "source": [
    "Thus LahNumbers(n) returns an n-element Array{Array{ℤInt,1},1}\n",
    "which is according to our definiton a triangle with *n* rows."
   ]
  },
  {
   "cell_type": "code",
   "execution_count": null,
   "metadata": {},
   "outputs": [],
   "source": [
    "const CacheLah = Dict{Int, ℤSeq}([0 => [ℤInt(1)]])\n",
    "\n",
    "function LahNumbers(n)\n",
    "    haskey(CacheLah, n) && return CacheLah[n]\n",
    "    prevrow = LahNumbers(n-1)\n",
    "    row = ℤSeq(n+1)\n",
    "    row[1] = 0; row[n+1] = 1\n",
    "    for k in 2:n\n",
    "        row[k] = prevrow[k-1] + prevrow[k]*(n+k-2)    \n",
    "    end\n",
    "    CacheLah[n] = row\n",
    "end"
   ]
  },
  {
   "cell_type": "code",
   "execution_count": null,
   "metadata": {},
   "outputs": [],
   "source": [
    "LahNumbers(5)"
   ]
  },
  {
   "cell_type": "code",
   "execution_count": null,
   "metadata": {},
   "outputs": [],
   "source": [
    "println(CacheLah)"
   ]
  },
  {
   "cell_type": "markdown",
   "metadata": {},
   "source": [
    "Let's check the time and space consumtion: "
   ]
  },
  {
   "cell_type": "code",
   "execution_count": null,
   "metadata": {
    "scrolled": true
   },
   "outputs": [],
   "source": [
    "@time LahNumbers(100);"
   ]
  },
  {
   "cell_type": "code",
   "execution_count": null,
   "metadata": {},
   "outputs": [],
   "source": [
    "LahNumbers(n, k) = LahNumbers(n+1)[k+1]\n",
    "LahNumbers(5, 3)"
   ]
  },
  {
   "cell_type": "code",
   "execution_count": null,
   "metadata": {},
   "outputs": [],
   "source": [
    "methods(LahNumbers)"
   ]
  },
  {
   "cell_type": "code",
   "execution_count": null,
   "metadata": {},
   "outputs": [],
   "source": [
    "function LahTriangle(size) \n",
    "    length(CacheLah) < size && LahNumbers(size)\n",
    "    [CacheLah[n] for n in 0:size-1] \n",
    "end"
   ]
  },
  {
   "cell_type": "code",
   "execution_count": null,
   "metadata": {},
   "outputs": [],
   "source": [
    "methods(LahTriangle)"
   ]
  },
  {
   "cell_type": "code",
   "execution_count": null,
   "metadata": {},
   "outputs": [],
   "source": [
    "T = LahTriangle(7)\n",
    "length(T)"
   ]
  },
  {
   "cell_type": "code",
   "execution_count": null,
   "metadata": {},
   "outputs": [],
   "source": [
    "evensum(A) = sum(A[1:2:end]) \n",
    "oddsum(A)  = sum(A[2:2:end])\n",
    "altsum(A)  = evensum(A) - oddsum(A)\n",
    "evensum(T::ℤTri) = evensum.(T)\n",
    "oddsum(T::ℤTri)  = oddsum.(T)\n",
    "altsum(T::ℤTri)  = evensum(T) - oddsum(T)"
   ]
  },
  {
   "cell_type": "code",
   "execution_count": null,
   "metadata": {},
   "outputs": [],
   "source": [
    "T = LahTriangle(10)\n",
    "Println.([sum(T), evensum(T), oddsum(T), altsum(T)]);"
   ]
  },
  {
   "cell_type": "code",
   "execution_count": null,
   "metadata": {},
   "outputs": [],
   "source": [
    "middle(A) = A[div(end + 1, 2)] \n",
    "middle(T::ℤTri) = middle.(T)\n",
    "\n",
    "middle(LahTriangle(10)) |> Println"
   ]
  },
  {
   "cell_type": "code",
   "execution_count": null,
   "metadata": {},
   "outputs": [],
   "source": [
    "central(T::ℤTri) = middle.(T[1:2:end])\n",
    "\n",
    "central(LahTriangle(16)) |> Println"
   ]
  },
  {
   "cell_type": "code",
   "execution_count": null,
   "metadata": {},
   "outputs": [],
   "source": [
    "function DiagonalTriangle(T::ℤTri)\n",
    "    dim = length(T)\n",
    "    U = ℤTri(dim)\n",
    "    for n in 1:dim\n",
    "        R = ℤSeq(div(n+1,2))\n",
    "        for k in 0:div(n-1,2)\n",
    "            R[k+1] = T[n-k][k+1]\n",
    "        end\n",
    "        U[n] = R\n",
    "    end\n",
    "    U\n",
    "end"
   ]
  },
  {
   "cell_type": "code",
   "execution_count": null,
   "metadata": {},
   "outputs": [],
   "source": [
    "T = LahTriangle(10) \n",
    "DiagonalTriangle(T)"
   ]
  },
  {
   "cell_type": "code",
   "execution_count": null,
   "metadata": {},
   "outputs": [],
   "source": [
    "diagsum(T) = sum(diag(T))\n",
    "diagsum(LahTriangle(9))"
   ]
  },
  {
   "cell_type": "code",
   "execution_count": null,
   "metadata": {},
   "outputs": [],
   "source": [
    "leftside(A)  = A[1] \n",
    "rightside(A) = A[end] \n",
    "\n",
    "rightside(T::ℤTri) = rightside.(T)\n",
    "leftside( T::ℤTri) = leftside.(T)"
   ]
  },
  {
   "cell_type": "code",
   "execution_count": null,
   "metadata": {},
   "outputs": [],
   "source": [
    "function profile(T::ℤTri)\n",
    "    println(\"Triangle: \");\n",
    "    for row in T Println(row) end; println()\n",
    "    print(\"Sum:      \"); sum(T)       |> Println \n",
    "    print(\"EvenSum:  \"); evensum(T)   |> Println \n",
    "    print(\"OddSum:   \"); oddsum(T)    |> Println \n",
    "    print(\"AltSum:   \"); altsum(T)    |> Println \n",
    "    print(\"DiagSum:  \"); diagsum(T)   |> Println \n",
    "    print(\"Middle:   \"); middle(T)    |> Println \n",
    "    print(\"Central:  \"); central(T)   |> Println \n",
    "    print(\"LeftSide: \"); leftside(T)  |> Println \n",
    "    print(\"RightSide:\"); rightside(T) |> Println \n",
    "end"
   ]
  },
  {
   "cell_type": "code",
   "execution_count": null,
   "metadata": {},
   "outputs": [],
   "source": [
    "profile(LahTriangle(10))"
   ]
  },
  {
   "cell_type": "code",
   "execution_count": null,
   "metadata": {},
   "outputs": [],
   "source": [
    "invT = InverseTriangle(T)      \n",
    "isa(invT, ℤTri) |> println\n",
    "invT"
   ]
  },
  {
   "cell_type": "code",
   "execution_count": null,
   "metadata": {},
   "outputs": [],
   "source": [
    "Apery = [\n",
    "            ℤInt(1),\n",
    "            5,\n",
    "            73,\n",
    "            1445,\n",
    "            33001,\n",
    "            819005,\n",
    "            21460825,\n",
    "            584307365\n",
    "        ]\n",
    "\n",
    "BinomialTransform(Apery) |> Println"
   ]
  },
  {
   "cell_type": "code",
   "execution_count": null,
   "metadata": {},
   "outputs": [],
   "source": [
    "dim = 8\n",
    "TraitCard(NarayanaTriangle, NarayanaTransform, dim)"
   ]
  },
  {
   "cell_type": "code",
   "execution_count": null,
   "metadata": {},
   "outputs": [],
   "source": [
    "TraitCard(LaguerreTriangle, LaguerreTransform, dim)"
   ]
  },
  {
   "cell_type": "code",
   "execution_count": null,
   "metadata": {},
   "outputs": [],
   "source": [
    "TraitCard(MotzkinTriangle, MotzkinTransform, dim)"
   ]
  },
  {
   "cell_type": "code",
   "execution_count": null,
   "metadata": {},
   "outputs": [],
   "source": [
    "TraitCard(JacobsthalTriangle, JacobsthalTransform, dim)"
   ]
  }
 ],
 "metadata": {
  "@webio": {
   "lastCommId": null,
   "lastKernelId": null
  },
  "kernelspec": {
   "display_name": "Julia 1.3.1",
   "language": "julia",
   "name": "julia-1.3"
  },
  "language_info": {
   "file_extension": ".jl",
   "mimetype": "application/julia",
   "name": "julia",
   "version": "1.3.1"
  }
 },
 "nbformat": 4,
 "nbformat_minor": 2
}
