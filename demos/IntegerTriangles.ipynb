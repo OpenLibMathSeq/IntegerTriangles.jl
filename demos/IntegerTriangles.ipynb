{
 "cells": [
  {
   "cell_type": "markdown",
   "metadata": {},
   "source": [
    "       This is a demo accompanying the first part of the tutorial."
   ]
  },
  {
   "cell_type": "markdown",
   "metadata": {},
   "source": [
    "<html><h1 style=\"background: -webkit-gradient(linear,left top,left bottom,from(#fff),to(#efefef)); border-radius: 10px; box-shadow: 0 0 4px;\n",
    "width: 100%; border: 1px solid grey; padding: 1em; box-sizing: border-box; margin-top: 5px; margin-bottom: 5px; text-align: center; background: brown; color: white; letter-spacing: 2px; font-weight: bold;line-height: 48px;\">Integer triangles computed with Julia<br><a href=\"http://luschny.de/math/seq/JuliaTrianglesPart1.html\">(blog)</a></h1>"
   ]
  },
  {
   "cell_type": "markdown",
   "metadata": {},
   "source": [
    "Load the package Nemo from Github. ( https://github.com/Nemocas/Nemo.jl )"
   ]
  },
  {
   "cell_type": "code",
   "execution_count": null,
   "metadata": {},
   "outputs": [],
   "source": [
    "using Nemo"
   ]
  },
  {
   "cell_type": "markdown",
   "metadata": {},
   "source": [
    "Definition: A *integer triangle* is an array of arrays whose members are integers.\n",
    "\n",
    "An integer is a multiple precision integer which is created by the constructor ZZ.\n",
    "\n",
    "Two examples for the creation of an integer triangle:"
   ]
  },
  {
   "cell_type": "code",
   "execution_count": 2,
   "metadata": {},
   "outputs": [
    {
     "data": {
      "text/plain": [
       "7-element Array{Array{fmpz,1},1}:\n",
       " [0]                  \n",
       " [0, 1]               \n",
       " [0, 1, 2]            \n",
       " [0, 1, 2, 3]         \n",
       " [0, 1, 2, 3, 4]      \n",
       " [0, 1, 2, 3, 4, 5]   \n",
       " [0, 1, 2, 3, 4, 5, 6]"
      ]
     },
     "execution_count": 2,
     "metadata": {},
     "output_type": "execute_result"
    }
   ],
   "source": [
    "[[ZZ(k) for k in 0:n] for n in 0:6]"
   ]
  },
  {
   "cell_type": "markdown",
   "metadata": {},
   "source": [
    "The shape of the triangle is /not/ fixed. It includes the cases denoted by the OEIS keywords *tabl* and *tabf*. We allow the empty sequence to be element of an integer triangle."
   ]
  },
  {
   "cell_type": "code",
   "execution_count": 3,
   "metadata": {},
   "outputs": [
    {
     "data": {
      "text/plain": [
       "Array{Array{fmpz,1},1}"
      ]
     },
     "execution_count": 3,
     "metadata": {},
     "output_type": "execute_result"
    }
   ],
   "source": [
    "const IntegerSequence = Array{fmpz,1}\n",
    "const IntegerTriangle = Array{Array{fmpz,1},1}"
   ]
  },
  {
   "cell_type": "code",
   "execution_count": 4,
   "metadata": {},
   "outputs": [
    {
     "data": {
      "text/plain": [
       "ZZTriangle (generic function with 1 method)"
      ]
     },
     "execution_count": 4,
     "metadata": {},
     "output_type": "execute_result"
    }
   ],
   "source": [
    "ZZSequence(len) = Vector{fmpz}(undef, len)\n",
    "ZZTriangle(dim, undef) = Vector{IntegerSequence}(undef, dim)"
   ]
  },
  {
   "cell_type": "code",
   "execution_count": 5,
   "metadata": {},
   "outputs": [
    {
     "data": {
      "text/plain": [
       "ZZTriangle (generic function with 3 methods)"
      ]
     },
     "execution_count": 5,
     "metadata": {},
     "output_type": "execute_result"
    }
   ],
   "source": [
    "ZZTriangle(dim) = ZZSequence.(1:dim)\n",
    "ZZTriangle(dim, f::Function) = f.(0:dim-1)"
   ]
  },
  {
   "cell_type": "code",
   "execution_count": 6,
   "metadata": {},
   "outputs": [
    {
     "data": {
      "text/plain": [
       "PrimeDivisors (generic function with 1 method)"
      ]
     },
     "execution_count": 6,
     "metadata": {},
     "output_type": "execute_result"
    }
   ],
   "source": [
    "function PrimeDivisors(n) \n",
    "    n < 2 && return fmpz[]\n",
    "    sort!([p for (p, e) ∈ factor(ZZ(n))])\n",
    "end"
   ]
  },
  {
   "cell_type": "code",
   "execution_count": 7,
   "metadata": {},
   "outputs": [
    {
     "data": {
      "text/plain": [
       "9-element Array{Array{fmpz,1},1}:\n",
       " []    \n",
       " []    \n",
       " [2]   \n",
       " [3]   \n",
       " [2]   \n",
       " [5]   \n",
       " [2, 3]\n",
       " [7]   \n",
       " [2]   "
      ]
     },
     "execution_count": 7,
     "metadata": {},
     "output_type": "execute_result"
    }
   ],
   "source": [
    "ZZTriangle(9, PrimeDivisors)"
   ]
  },
  {
   "cell_type": "code",
   "execution_count": 8,
   "metadata": {},
   "outputs": [
    {
     "data": {
      "text/plain": [
       "sum (generic function with 15 methods)"
      ]
     },
     "execution_count": 8,
     "metadata": {},
     "output_type": "execute_result"
    }
   ],
   "source": [
    "import Base.sum\n",
    "sum(T::IntegerTriangle) = sum.(T)"
   ]
  },
  {
   "cell_type": "code",
   "execution_count": 9,
   "metadata": {},
   "outputs": [
    {
     "data": {
      "text/plain": [
       "8-element Array{fmpz,1}:\n",
       " 0\n",
       " 0\n",
       " 2\n",
       " 3\n",
       " 2\n",
       " 5\n",
       " 5\n",
       " 7"
      ]
     },
     "execution_count": 9,
     "metadata": {},
     "output_type": "execute_result"
    }
   ],
   "source": [
    "sum(PrimeDivisors.(0:7))"
   ]
  },
  {
   "cell_type": "code",
   "execution_count": 10,
   "metadata": {},
   "outputs": [
    {
     "data": {
      "text/plain": [
       "5-element Array{fmpz,1}:\n",
       " #undef\n",
       " #undef\n",
       " #undef\n",
       " #undef\n",
       " #undef"
      ]
     },
     "execution_count": 10,
     "metadata": {},
     "output_type": "execute_result"
    }
   ],
   "source": [
    "S = ZZSequence(5) # isa(S, IntegerSequence)"
   ]
  },
  {
   "cell_type": "code",
   "execution_count": 11,
   "metadata": {},
   "outputs": [
    {
     "data": {
      "text/plain": [
       "5-element Array{Array{fmpz,1},1}:\n",
       " #undef\n",
       " #undef\n",
       " #undef\n",
       " #undef\n",
       " #undef"
      ]
     },
     "execution_count": 11,
     "metadata": {},
     "output_type": "execute_result"
    }
   ],
   "source": [
    "T = ZZTriangle(5, undef) # isa(T, IntegerTriangle)"
   ]
  },
  {
   "cell_type": "code",
   "execution_count": 12,
   "metadata": {},
   "outputs": [
    {
     "data": {
      "text/plain": [
       "6-element Array{Array{fmpz,1},1}:\n",
       " [#undef]                                        \n",
       " [#undef, #undef]                                \n",
       " [#undef, #undef, #undef]                        \n",
       " [#undef, #undef, #undef, #undef]                \n",
       " [#undef, #undef, #undef, #undef, #undef]        \n",
       " [#undef, #undef, #undef, #undef, #undef, #undef]"
      ]
     },
     "execution_count": 12,
     "metadata": {},
     "output_type": "execute_result"
    }
   ],
   "source": [
    "T = ZZTriangle(6) # isa(T, IntegerTriangle)"
   ]
  },
  {
   "cell_type": "code",
   "execution_count": 13,
   "metadata": {
    "scrolled": true
   },
   "outputs": [
    {
     "data": {
      "text/plain": [
       "6-element Array{Array{fmpz,1},1}:\n",
       " [1]               \n",
       " [1, 2]            \n",
       " [1, 2, 3]         \n",
       " [1, 2, 3, 4]      \n",
       " [1, 2, 3, 4, 5]   \n",
       " [1, 2, 3, 4, 5, 6]"
      ]
     },
     "execution_count": 13,
     "metadata": {},
     "output_type": "execute_result"
    }
   ],
   "source": [
    "for n in 1:6 T[n] = [ZZ(k) for k in 1:n] end\n",
    "T"
   ]
  },
  {
   "cell_type": "code",
   "execution_count": 14,
   "metadata": {},
   "outputs": [
    {
     "data": {
      "text/plain": [
       "3-element Array{fmpz,1}:\n",
       " 1\n",
       " 2\n",
       " 3"
      ]
     },
     "execution_count": 14,
     "metadata": {},
     "output_type": "execute_result"
    }
   ],
   "source": [
    "T[3]"
   ]
  },
  {
   "cell_type": "code",
   "execution_count": 15,
   "metadata": {},
   "outputs": [
    {
     "data": {
      "text/plain": [
       "2"
      ]
     },
     "execution_count": 15,
     "metadata": {},
     "output_type": "execute_result"
    }
   ],
   "source": [
    "T[3][2]"
   ]
  },
  {
   "cell_type": "code",
   "execution_count": 16,
   "metadata": {},
   "outputs": [
    {
     "data": {
      "text/plain": [
       "fmpz"
      ]
     },
     "execution_count": 16,
     "metadata": {},
     "output_type": "execute_result"
    }
   ],
   "source": [
    "typeof(T[3][2])"
   ]
  },
  {
   "cell_type": "code",
   "execution_count": 17,
   "metadata": {},
   "outputs": [
    {
     "data": {
      "text/plain": [
       "true"
      ]
     },
     "execution_count": 17,
     "metadata": {},
     "output_type": "execute_result"
    }
   ],
   "source": [
    "isa(T, IntegerTriangle)"
   ]
  },
  {
   "cell_type": "code",
   "execution_count": 18,
   "metadata": {},
   "outputs": [
    {
     "data": {
      "text/plain": [
       "7-element Array{Array{fmpz,1},1}:\n",
       " [1]                             \n",
       " [0, 1]                          \n",
       " [0, 2, 1]                       \n",
       " [0, 6, 6, 1]                    \n",
       " [0, 24, 36, 12, 1]              \n",
       " [0, 120, 240, 120, 20, 1]       \n",
       " [0, 720, 1800, 1200, 300, 30, 1]"
      ]
     },
     "execution_count": 18,
     "metadata": {},
     "output_type": "execute_result"
    }
   ],
   "source": [
    "function LahIndexed(n, k)\n",
    "    function recLah(n, k)\n",
    "        k  < 0 && return ZZ(0)\n",
    "        k == n && return ZZ(1)\n",
    "        recLah(n-1, k-1) + recLah(n-1, k)*(n+k-1)\n",
    "    end\n",
    "    recLah(n, k)\n",
    "end\n",
    "\n",
    "[[LahIndexed(n, k) for k in 0:n] for n in 0:6]"
   ]
  },
  {
   "cell_type": "markdown",
   "metadata": {},
   "source": [
    "Thus LahNumbers(n) returns an n-element Array{Array{BigInt,1},1}\n",
    "which is according to our definiton a triangle with *n* rows."
   ]
  },
  {
   "cell_type": "code",
   "execution_count": 19,
   "metadata": {},
   "outputs": [
    {
     "data": {
      "text/plain": [
       "LahNumbers (generic function with 1 method)"
      ]
     },
     "execution_count": 19,
     "metadata": {},
     "output_type": "execute_result"
    }
   ],
   "source": [
    "const CacheLah = Dict{Int, Array{fmpz,1}}([0 => [fmpz(1)]])\n",
    "\n",
    "function LahNumbers(n)\n",
    "    haskey(CacheLah, n) && return CacheLah[n]\n",
    "    prevrow = LahNumbers(n-1)\n",
    "    row = Array{fmpz, 1}(undef, n+1)\n",
    "    row[1] = 0; row[n+1] = 1\n",
    "    for k in 2:n\n",
    "        row[k] = prevrow[k-1] + prevrow[k]*(n+k-2)    \n",
    "    end\n",
    "    CacheLah[n] = row\n",
    "end"
   ]
  },
  {
   "cell_type": "code",
   "execution_count": 20,
   "metadata": {},
   "outputs": [
    {
     "data": {
      "text/plain": [
       "6-element Array{fmpz,1}:\n",
       " 0  \n",
       " 120\n",
       " 240\n",
       " 120\n",
       " 20 \n",
       " 1  "
      ]
     },
     "execution_count": 20,
     "metadata": {},
     "output_type": "execute_result"
    }
   ],
   "source": [
    "LahNumbers(5)"
   ]
  },
  {
   "cell_type": "code",
   "execution_count": 21,
   "metadata": {},
   "outputs": [
    {
     "name": "stdout",
     "output_type": "stream",
     "text": [
      "Dict(0 => [1],4 => [0, 24, 36, 12, 1],2 => [0, 2, 1],3 => [0, 6, 6, 1],5 => [0, 120, 240, 120, 20, 1],1 => [0, 1])\n"
     ]
    }
   ],
   "source": [
    "println(CacheLah)"
   ]
  },
  {
   "cell_type": "markdown",
   "metadata": {},
   "source": [
    "Let's check the time and space consumtion: "
   ]
  },
  {
   "cell_type": "code",
   "execution_count": 22,
   "metadata": {
    "scrolled": true
   },
   "outputs": [
    {
     "name": "stdout",
     "output_type": "stream",
     "text": [
      "  0.004225 seconds (10.18 k allocations: 212.766 KiB)\n"
     ]
    }
   ],
   "source": [
    "@time LahNumbers(100);"
   ]
  },
  {
   "cell_type": "code",
   "execution_count": 23,
   "metadata": {},
   "outputs": [
    {
     "data": {
      "text/plain": [
       "1200"
      ]
     },
     "execution_count": 23,
     "metadata": {},
     "output_type": "execute_result"
    }
   ],
   "source": [
    "LahNumbers(n, k) = LahNumbers(n+1)[k+1]\n",
    "LahNumbers(5, 3)"
   ]
  },
  {
   "cell_type": "code",
   "execution_count": 24,
   "metadata": {},
   "outputs": [
    {
     "data": {
      "text/html": [
       "# 2 methods for generic function <b>LahNumbers</b>:<ul><li> LahNumbers(n) in Main at In[19]:4</li> <li> LahNumbers(n, k) in Main at In[23]:1</li> </ul>"
      ],
      "text/plain": [
       "# 2 methods for generic function \"LahNumbers\":\n",
       "[1] LahNumbers(n) in Main at In[19]:4\n",
       "[2] LahNumbers(n, k) in Main at In[23]:1"
      ]
     },
     "execution_count": 24,
     "metadata": {},
     "output_type": "execute_result"
    }
   ],
   "source": [
    "methods(LahNumbers)"
   ]
  },
  {
   "cell_type": "code",
   "execution_count": 25,
   "metadata": {},
   "outputs": [
    {
     "data": {
      "text/plain": [
       "LahTriangle (generic function with 1 method)"
      ]
     },
     "execution_count": 25,
     "metadata": {},
     "output_type": "execute_result"
    }
   ],
   "source": [
    "function LahTriangle(size) \n",
    "    length(CacheLah) < size && LahNumbers(size)\n",
    "    [CacheLah[n] for n in 0:size-1] \n",
    "end"
   ]
  },
  {
   "cell_type": "code",
   "execution_count": 26,
   "metadata": {},
   "outputs": [
    {
     "data": {
      "text/html": [
       "# 1 method for generic function <b>LahTriangle</b>:<ul><li> LahTriangle(size) in Main at In[25]:2</li> </ul>"
      ],
      "text/plain": [
       "# 1 method for generic function \"LahTriangle\":\n",
       "[1] LahTriangle(size) in Main at In[25]:2"
      ]
     },
     "execution_count": 26,
     "metadata": {},
     "output_type": "execute_result"
    }
   ],
   "source": [
    "methods(LahTriangle)"
   ]
  },
  {
   "cell_type": "code",
   "execution_count": 27,
   "metadata": {},
   "outputs": [
    {
     "data": {
      "text/plain": [
       "7"
      ]
     },
     "execution_count": 27,
     "metadata": {},
     "output_type": "execute_result"
    }
   ],
   "source": [
    "T = LahTriangle(7)\n",
    "length(T)"
   ]
  },
  {
   "cell_type": "code",
   "execution_count": 28,
   "metadata": {},
   "outputs": [],
   "source": [
    "# Make sure that Nemo version >= 16.1\n",
    "# Otherwise\n",
    "# import Base.zero\n",
    "# Base.zero(::Type{fmpz}) = ZZ(0)"
   ]
  },
  {
   "cell_type": "code",
   "execution_count": 29,
   "metadata": {},
   "outputs": [
    {
     "data": {
      "text/plain": [
       "8-element Array{fmpz,1}:\n",
       " 0\n",
       " 0\n",
       " 2\n",
       " 3\n",
       " 2\n",
       " 5\n",
       " 5\n",
       " 7"
      ]
     },
     "execution_count": 29,
     "metadata": {},
     "output_type": "execute_result"
    }
   ],
   "source": [
    "sum(PrimeDivisors.(0:7))"
   ]
  },
  {
   "cell_type": "code",
   "execution_count": 30,
   "metadata": {},
   "outputs": [
    {
     "data": {
      "text/plain": [
       "altsum (generic function with 2 methods)"
      ]
     },
     "execution_count": 30,
     "metadata": {},
     "output_type": "execute_result"
    }
   ],
   "source": [
    "evensum(A) = sum(A[1:2:end]) \n",
    "oddsum(A)  = sum(A[2:2:end])\n",
    "altsum(A)  = evensum(A) - oddsum(A)\n",
    "evensum(T::IntegerTriangle) = evensum.(T)\n",
    "oddsum(T::IntegerTriangle)  = oddsum.(T)\n",
    "altsum(T::IntegerTriangle)  = evensum(T) - oddsum(T)"
   ]
  },
  {
   "cell_type": "code",
   "execution_count": 31,
   "metadata": {},
   "outputs": [
    {
     "name": "stdout",
     "output_type": "stream",
     "text": [
      "fmpz[1, 1, 3, 13, 73, 501, 4051, 37633, 394353, 4596553]\n",
      "fmpz[1, 0, 1, 6, 37, 260, 2101, 19362, 201097, 2326536]\n",
      "fmpz[0, 1, 2, 7, 36, 241, 1950, 18271, 193256, 2270017]\n",
      "fmpz[1, -1, -1, -1, 1, 19, 151, 1091, 7841, 56519]\n"
     ]
    }
   ],
   "source": [
    "T = LahTriangle(10)\n",
    "println.([sum(T), evensum(T), oddsum(T), altsum(T)]);"
   ]
  },
  {
   "cell_type": "code",
   "execution_count": 32,
   "metadata": {},
   "outputs": [
    {
     "name": "stdout",
     "output_type": "stream",
     "text": [
      "fmpz[1, 0, 2, 6, 36, 240, 1200, 12600, 58800, 846720]\n"
     ]
    }
   ],
   "source": [
    "middle(A) = A[div(end + 1, 2)] \n",
    "middle(T::IntegerTriangle) = middle.(T)\n",
    "\n",
    "middle(LahTriangle(10)) |> println"
   ]
  },
  {
   "cell_type": "code",
   "execution_count": 33,
   "metadata": {},
   "outputs": [
    {
     "name": "stdout",
     "output_type": "stream",
     "text": [
      "fmpz[1, 2, 36, 1200, 58800, 3810240, 307359360, 29682132480]\n"
     ]
    }
   ],
   "source": [
    "central(T::IntegerTriangle) = middle.(T[1:2:end])\n",
    "\n",
    "central(LahTriangle(16)) |> println"
   ]
  },
  {
   "cell_type": "code",
   "execution_count": 34,
   "metadata": {},
   "outputs": [
    {
     "data": {
      "text/plain": [
       "diag (generic function with 1 method)"
      ]
     },
     "execution_count": 34,
     "metadata": {},
     "output_type": "execute_result"
    }
   ],
   "source": [
    "function diag(T)\n",
    "    dim = length(T)\n",
    "    U = ZZTriangle(dim)\n",
    "    for n in 1:dim\n",
    "        R = ZZSequence(div(n+1,2))\n",
    "        for k in 0:div(n-1,2)\n",
    "            R[k+1] = T[n-k][k+1]\n",
    "        end\n",
    "        U[n] = R\n",
    "    end\n",
    "    U\n",
    "end"
   ]
  },
  {
   "cell_type": "code",
   "execution_count": 35,
   "metadata": {},
   "outputs": [
    {
     "data": {
      "text/plain": [
       "10-element Array{Array{fmpz,1},1}:\n",
       " [1]                        \n",
       " [0]                        \n",
       " [0, 1]                     \n",
       " [0, 2]                     \n",
       " [0, 6, 1]                  \n",
       " [0, 24, 6]                 \n",
       " [0, 120, 36, 1]            \n",
       " [0, 720, 240, 12]          \n",
       " [0, 5040, 1800, 120, 1]    \n",
       " [0, 40320, 15120, 1200, 20]"
      ]
     },
     "execution_count": 35,
     "metadata": {},
     "output_type": "execute_result"
    }
   ],
   "source": [
    "T = LahTriangle(10) \n",
    "diag(T)"
   ]
  },
  {
   "cell_type": "code",
   "execution_count": 36,
   "metadata": {},
   "outputs": [
    {
     "data": {
      "text/plain": [
       "9-element Array{fmpz,1}:\n",
       " 1   \n",
       " 0   \n",
       " 1   \n",
       " 2   \n",
       " 7   \n",
       " 30  \n",
       " 157 \n",
       " 972 \n",
       " 6961"
      ]
     },
     "execution_count": 36,
     "metadata": {},
     "output_type": "execute_result"
    }
   ],
   "source": [
    "diagsum(T) = sum(diag(T))\n",
    "diagsum(LahTriangle(9))"
   ]
  },
  {
   "cell_type": "code",
   "execution_count": 37,
   "metadata": {},
   "outputs": [
    {
     "data": {
      "text/plain": [
       "leftside (generic function with 2 methods)"
      ]
     },
     "execution_count": 37,
     "metadata": {},
     "output_type": "execute_result"
    }
   ],
   "source": [
    "leftside(A)  = A[1] \n",
    "rightside(A) = A[end] \n",
    "\n",
    "rightside(T::IntegerTriangle) = rightside.(T)\n",
    "leftside( T::IntegerTriangle) = leftside.(T)"
   ]
  },
  {
   "cell_type": "code",
   "execution_count": 38,
   "metadata": {},
   "outputs": [
    {
     "data": {
      "text/plain": [
       "profile (generic function with 1 method)"
      ]
     },
     "execution_count": 38,
     "metadata": {},
     "output_type": "execute_result"
    }
   ],
   "source": [
    "function profile(T::IntegerTriangle)\n",
    "    println(\"Triangle: \");\n",
    "    for row in T println(row) end; println()\n",
    "    print(\"Sum:      \"); sum(T)       |> println \n",
    "    print(\"EvenSum:  \"); evensum(T)   |> println \n",
    "    print(\"OddSum:   \"); oddsum(T)    |> println \n",
    "    print(\"AltSum:   \"); altsum(T)    |> println \n",
    "    print(\"DiagSum:  \"); diagsum(T)   |> println \n",
    "    print(\"Middle:   \"); middle(T)    |> println \n",
    "    print(\"Central:  \"); central(T)   |> println \n",
    "    print(\"LeftSide: \"); leftside(T)  |> println \n",
    "    print(\"RightSide:\"); rightside(T) |> println \n",
    "end"
   ]
  },
  {
   "cell_type": "code",
   "execution_count": 39,
   "metadata": {},
   "outputs": [
    {
     "name": "stdout",
     "output_type": "stream",
     "text": [
      "Triangle: \n",
      "fmpz[1]\n",
      "fmpz[0, 1]\n",
      "fmpz[0, 2, 1]\n",
      "fmpz[0, 6, 6, 1]\n",
      "fmpz[0, 24, 36, 12, 1]\n",
      "fmpz[0, 120, 240, 120, 20, 1]\n",
      "fmpz[0, 720, 1800, 1200, 300, 30, 1]\n",
      "fmpz[0, 5040, 15120, 12600, 4200, 630, 42, 1]\n",
      "fmpz[0, 40320, 141120, 141120, 58800, 11760, 1176, 56, 1]\n",
      "fmpz[0, 362880, 1451520, 1693440, 846720, 211680, 28224, 2016, 72, 1]\n",
      "\n",
      "Sum:      fmpz[1, 1, 3, 13, 73, 501, 4051, 37633, 394353, 4596553]\n",
      "EvenSum:  fmpz[1, 0, 1, 6, 37, 260, 2101, 19362, 201097, 2326536]\n",
      "OddSum:   fmpz[0, 1, 2, 7, 36, 241, 1950, 18271, 193256, 2270017]\n",
      "AltSum:   fmpz[1, -1, -1, -1, 1, 19, 151, 1091, 7841, 56519]\n",
      "DiagSum:  fmpz[1, 0, 1, 2, 7, 30, 157, 972, 6961, 56660]\n",
      "Middle:   fmpz[1, 0, 2, 6, 36, 240, 1200, 12600, 58800, 846720]\n",
      "Central:  fmpz[1, 2, 36, 1200, 58800]\n",
      "LeftSide: fmpz[1, 0, 0, 0, 0, 0, 0, 0, 0, 0]\n",
      "RightSide:fmpz[1, 1, 1, 1, 1, 1, 1, 1, 1, 1]\n"
     ]
    }
   ],
   "source": [
    "profile(LahTriangle(10))"
   ]
  },
  {
   "cell_type": "code",
   "execution_count": 40,
   "metadata": {},
   "outputs": [
    {
     "data": {
      "text/plain": [
       "InverseTriangle (generic function with 1 method)"
      ]
     },
     "execution_count": 40,
     "metadata": {},
     "output_type": "execute_result"
    }
   ],
   "source": [
    "function InverseTriangle(T)\n",
    "    dim = length(T)\n",
    "    M = zeros(BigInt, dim, dim)\n",
    "    for n in 1:dim, k in 1:n \n",
    "        M[n, k] = T[n][k] \n",
    "    end\n",
    "    IM = inv(M)\n",
    "    [[ZZ(IM[n, k]) for k in 1:n] for n in 1:dim]\n",
    "end    "
   ]
  },
  {
   "cell_type": "code",
   "execution_count": 41,
   "metadata": {},
   "outputs": [
    {
     "name": "stdout",
     "output_type": "stream",
     "text": [
      "true\n"
     ]
    },
    {
     "data": {
      "text/plain": [
       "10-element Array{Array{fmpz,1},1}:\n",
       " [1]                                                                  \n",
       " [0, 1]                                                               \n",
       " [0, -2, 1]                                                           \n",
       " [0, 6, -6, 1]                                                        \n",
       " [0, -24, 36, -12, 1]                                                 \n",
       " [0, 120, -240, 120, -20, 1]                                          \n",
       " [0, -720, 1800, -1200, 300, -30, 1]                                  \n",
       " [0, 5040, -15120, 12600, -4200, 630, -42, 1]                         \n",
       " [0, -40320, 141120, -141120, 58800, -11760, 1176, -56, 1]            \n",
       " [0, 362880, -1451520, 1693440, -846720, 211680, -28224, 2016, -72, 1]"
      ]
     },
     "execution_count": 41,
     "metadata": {},
     "output_type": "execute_result"
    }
   ],
   "source": [
    "IT = InverseTriangle(T)      \n",
    "isa(IT, IntegerTriangle) |> println\n",
    "IT"
   ]
  }
 ],
 "metadata": {
  "@webio": {
   "lastCommId": null,
   "lastKernelId": null
  },
  "kernelspec": {
   "display_name": "Julia 1.3.1",
   "language": "julia",
   "name": "julia-1.3"
  },
  "language_info": {
   "file_extension": ".jl",
   "mimetype": "application/julia",
   "name": "julia",
   "version": "1.3.0"
  }
 },
 "nbformat": 4,
 "nbformat_minor": 2
}
