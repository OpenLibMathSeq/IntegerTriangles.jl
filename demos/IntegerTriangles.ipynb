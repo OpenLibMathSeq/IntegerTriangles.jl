{
 "cells": [
  {
   "cell_type": "markdown",
   "metadata": {},
   "source": [
    "<html><h1 style=\"background: -webkit-gradient(linear,left top,left bottom,from(#fff),to(#efefef)); border-radius: 10px; box-shadow: 0 0 4px;\n",
    "width: 100%; border: 1px solid grey; padding: 1em; box-sizing: border-box; margin-top: 5px; margin-bottom: 5px; text-align: center; background: brown; color: white; letter-spacing: 2px; font-weight: bold;line-height: 48px;\">Integer Triangles Trait Cards<br>Computed with Julia<br><a href=\"http://luschny.de/julia/triangles/TutorialTrianglesPart1.html\">(See also the Tutorial)</a></h1>"
   ]
  },
  {
   "cell_type": "code",
   "execution_count": 1,
   "metadata": {},
   "outputs": [],
   "source": [
    "# Pkg.add(PackageSpec(url=\"https://github.com/OpenLibMathSeq/IntegerTriangles.jl\"))"
   ]
  },
  {
   "cell_type": "code",
   "execution_count": 2,
   "metadata": {},
   "outputs": [
    {
     "name": "stdout",
     "output_type": "stream",
     "text": [
      "\n",
      "Welcome to Nemo version 0.22.0\n",
      "\n",
      "Nemo comes with absolutely no warranty whatsoever\n",
      "\n"
     ]
    }
   ],
   "source": [
    "using Nemo;\n",
    "using IntegerTriangles;"
   ]
  },
  {
   "cell_type": "markdown",
   "metadata": {},
   "source": [
    "Definition: A *integer triangle* is an array of arrays whose members are integers. \n",
    "It has the type **ℤTri**.\n",
    "\n",
    "The row of an integer triangle is an integer sequence, it has the type **ℤSeq**.\n",
    "\n",
    "An integer is a multiple precision integer which is created by the constructor **ZZ**.\n",
    "\n",
    "Examples for the creation of an integer triangle:"
   ]
  },
  {
   "cell_type": "code",
   "execution_count": 3,
   "metadata": {},
   "outputs": [
    {
     "data": {
      "text/plain": [
       "7-element Vector{Vector{fmpz}}:\n",
       " [0]\n",
       " [0, 1]\n",
       " [0, 1, 2]\n",
       " [0, 1, 2, 3]\n",
       " [0, 1, 2, 3, 4]\n",
       " [0, 1, 2, 3, 4, 5]\n",
       " [0, 1, 2, 3, 4, 5, 6]"
      ]
     },
     "execution_count": 3,
     "metadata": {},
     "output_type": "execute_result"
    }
   ],
   "source": [
    "[[ZZ(k) for k in 0:n] for n in 0:6]"
   ]
  },
  {
   "cell_type": "code",
   "execution_count": 4,
   "metadata": {},
   "outputs": [
    {
     "data": {
      "text/plain": [
       "7-element Vector{fmpz}:\n",
       " 0\n",
       " 1\n",
       " 4\n",
       " 9\n",
       " 16\n",
       " 25\n",
       " 36"
      ]
     },
     "execution_count": 4,
     "metadata": {},
     "output_type": "execute_result"
    }
   ],
   "source": [
    "ZSeq(7, n -> n*n)"
   ]
  },
  {
   "cell_type": "code",
   "execution_count": 5,
   "metadata": {},
   "outputs": [
    {
     "name": "stdout",
     "output_type": "stream",
     "text": [
      "[0]\n",
      "[0, 1]\n",
      "[0, 1, 2]\n",
      "[0, 1, 2, 3]\n",
      "[0, 1, 2, 3, 4]\n",
      "[0, 1, 2, 3, 4, 5]\n"
     ]
    }
   ],
   "source": [
    "T = Telescope(6, n -> ZZ(n)) \n",
    "Show(collect(T))"
   ]
  },
  {
   "cell_type": "markdown",
   "metadata": {},
   "source": [
    "The shape of the triangle is /not/ fixed. It includes the cases denoted by the OEIS keywords *tabl* and *tabf*. We allow the empty sequence to be element of an integer triangle."
   ]
  },
  {
   "cell_type": "code",
   "execution_count": 6,
   "metadata": {},
   "outputs": [
    {
     "data": {
      "text/plain": [
       "Divisors (generic function with 1 method)"
      ]
     },
     "execution_count": 6,
     "metadata": {},
     "output_type": "execute_result"
    }
   ],
   "source": [
    "function Divisors(n) \n",
    "    n == 0 && return ℤSeq[]\n",
    "    (ZZ(d) for d in 1:n if rem(n, d) == 0)\n",
    "end"
   ]
  },
  {
   "cell_type": "code",
   "execution_count": 7,
   "metadata": {},
   "outputs": [
    {
     "name": "stdout",
     "output_type": "stream",
     "text": [
      "true\n"
     ]
    }
   ],
   "source": [
    "dk = collect(Divisors(12))\n",
    "println(isa(dk, ℤSeq))\n"
   ]
  },
  {
   "cell_type": "code",
   "execution_count": 8,
   "metadata": {},
   "outputs": [
    {
     "data": {
      "text/plain": [
       "sum (generic function with 17 methods)"
      ]
     },
     "execution_count": 8,
     "metadata": {},
     "output_type": "execute_result"
    }
   ],
   "source": [
    "import Base.sum\n",
    "sum(T::ℤTri) = sum.(T)"
   ]
  },
  {
   "cell_type": "code",
   "execution_count": 9,
   "metadata": {},
   "outputs": [
    {
     "data": {
      "text/html": [
       "$8$"
      ],
      "text/latex": [
       "8"
      ],
      "text/plain": [
       "8"
      ]
     },
     "execution_count": 9,
     "metadata": {},
     "output_type": "execute_result"
    }
   ],
   "source": [
    "sum(Divisors(7))"
   ]
  },
  {
   "cell_type": "code",
   "execution_count": 10,
   "metadata": {},
   "outputs": [
    {
     "data": {
      "text/plain": [
       "5-element Vector{fmpz}:\n",
       " #undef\n",
       " #undef\n",
       " #undef\n",
       " #undef\n",
       " #undef"
      ]
     },
     "execution_count": 10,
     "metadata": {},
     "output_type": "execute_result"
    }
   ],
   "source": [
    "S = ZSeq(5) "
   ]
  },
  {
   "cell_type": "code",
   "execution_count": 11,
   "metadata": {},
   "outputs": [
    {
     "data": {
      "text/plain": [
       "5-element Vector{Vector{fmpz}}:\n",
       " #undef\n",
       " #undef\n",
       " #undef\n",
       " #undef\n",
       " #undef"
      ]
     },
     "execution_count": 11,
     "metadata": {},
     "output_type": "execute_result"
    }
   ],
   "source": [
    "T = ZTri(5) "
   ]
  },
  {
   "cell_type": "markdown",
   "metadata": {},
   "source": [
    "If the keyword 'reg' is set to true, the constructor returns an uninitialized regular triangle."
   ]
  },
  {
   "cell_type": "code",
   "execution_count": 12,
   "metadata": {},
   "outputs": [
    {
     "data": {
      "text/plain": [
       "6-element Vector{Vector{fmpz}}:\n",
       " [#undef]\n",
       " [#undef, #undef]\n",
       " [#undef, #undef, #undef]\n",
       " [#undef, #undef, #undef, #undef]\n",
       " [#undef, #undef, #undef, #undef, #undef]\n",
       " [#undef, #undef, #undef, #undef, #undef, #undef]"
      ]
     },
     "execution_count": 12,
     "metadata": {},
     "output_type": "execute_result"
    }
   ],
   "source": [
    "T = ZTri(6, reg=true) "
   ]
  },
  {
   "cell_type": "code",
   "execution_count": 13,
   "metadata": {
    "scrolled": true
   },
   "outputs": [
    {
     "data": {
      "text/plain": [
       "6-element Vector{Vector{fmpz}}:\n",
       " [1]\n",
       " [1, 2]\n",
       " [1, 2, 3]\n",
       " [1, 2, 3, 4]\n",
       " [1, 2, 3, 4, 5]\n",
       " [1, 2, 3, 4, 5, 6]"
      ]
     },
     "execution_count": 13,
     "metadata": {},
     "output_type": "execute_result"
    }
   ],
   "source": [
    "for n in 1:6 T[n] = [ZZ(k) for k in 1:n] end\n",
    "T"
   ]
  },
  {
   "cell_type": "code",
   "execution_count": 14,
   "metadata": {},
   "outputs": [
    {
     "data": {
      "text/plain": [
       "3-element Vector{fmpz}:\n",
       " 1\n",
       " 2\n",
       " 3"
      ]
     },
     "execution_count": 14,
     "metadata": {},
     "output_type": "execute_result"
    }
   ],
   "source": [
    "T[3]"
   ]
  },
  {
   "cell_type": "code",
   "execution_count": 15,
   "metadata": {},
   "outputs": [
    {
     "data": {
      "text/html": [
       "$2$"
      ],
      "text/latex": [
       "2"
      ],
      "text/plain": [
       "2"
      ]
     },
     "execution_count": 15,
     "metadata": {},
     "output_type": "execute_result"
    }
   ],
   "source": [
    "T[3][2]"
   ]
  },
  {
   "cell_type": "code",
   "execution_count": 16,
   "metadata": {},
   "outputs": [
    {
     "name": "stdout",
     "output_type": "stream",
     "text": [
      "true\n",
      "true\n",
      "true\n"
     ]
    }
   ],
   "source": [
    "isa(T, ℤTri) |> println\n",
    "isa(T[3], ℤSeq) |> println\n",
    "isa(T[3][2], ℤInt) |> println"
   ]
  },
  {
   "cell_type": "code",
   "execution_count": 17,
   "metadata": {},
   "outputs": [
    {
     "data": {
      "text/plain": [
       "7-element Vector{Vector{fmpz}}:\n",
       " [1]\n",
       " [0, 1]\n",
       " [0, 2, 1]\n",
       " [0, 6, 6, 1]\n",
       " [0, 24, 36, 12, 1]\n",
       " [0, 120, 240, 120, 20, 1]\n",
       " [0, 720, 1800, 1200, 300, 30, 1]"
      ]
     },
     "execution_count": 17,
     "metadata": {},
     "output_type": "execute_result"
    }
   ],
   "source": [
    "function LahIndexed(n, k)\n",
    "    function recLah(n, k)\n",
    "        k  < 0 && return ZZ(0)\n",
    "        k == n && return ZZ(1)\n",
    "        recLah(n-1, k-1) + recLah(n-1, k)*(n+k-1)\n",
    "    end\n",
    "    recLah(n, k)\n",
    "end\n",
    "\n",
    "[[LahIndexed(n, k) for k in 0:n] for n in 0:6]"
   ]
  },
  {
   "cell_type": "markdown",
   "metadata": {},
   "source": [
    "Thus LahNumbers(n) returns an n-element Array{Array{ℤInt,1},1}\n",
    "which is according to our definiton a triangle with *n* rows."
   ]
  },
  {
   "cell_type": "code",
   "execution_count": 18,
   "metadata": {},
   "outputs": [
    {
     "data": {
      "text/plain": [
       "LahNumbers (generic function with 1 method)"
      ]
     },
     "execution_count": 18,
     "metadata": {},
     "output_type": "execute_result"
    }
   ],
   "source": [
    "const cacheLah = Dict{Int, ℤSeq}([0 => [ZZ(1)]])\n",
    "\n",
    "function LahNumbers(n)\n",
    "    haskey(cacheLah, n) && return cacheLah[n]\n",
    "    prevrow = LahNumbers(n-1)\n",
    "    row = ZSeq(n+1)\n",
    "    row[1] = 0; row[n+1] = 1\n",
    "    for k in 2:n\n",
    "        row[k] = prevrow[k-1] + prevrow[k]*(n+k-2)    \n",
    "    end\n",
    "    cacheLah[n] = row\n",
    "end"
   ]
  },
  {
   "cell_type": "code",
   "execution_count": 19,
   "metadata": {},
   "outputs": [
    {
     "data": {
      "text/plain": [
       "6-element Vector{fmpz}:\n",
       " 0\n",
       " 120\n",
       " 240\n",
       " 120\n",
       " 20\n",
       " 1"
      ]
     },
     "execution_count": 19,
     "metadata": {},
     "output_type": "execute_result"
    }
   ],
   "source": [
    "LahNumbers(5)"
   ]
  },
  {
   "cell_type": "code",
   "execution_count": 20,
   "metadata": {},
   "outputs": [
    {
     "name": "stdout",
     "output_type": "stream",
     "text": [
      "Dict{Int64, Vector{fmpz}}(0 => [1], 4 => [0, 24, 36, 12, 1], 5 => [0, 120, 240, 120, 20, 1], 2 => [0, 2, 1], 3 => [0, 6, 6, 1], 1 => [0, 1])\n"
     ]
    }
   ],
   "source": [
    "println(cacheLah)"
   ]
  },
  {
   "cell_type": "markdown",
   "metadata": {},
   "source": [
    "Let's check the time and space consumtion: "
   ]
  },
  {
   "cell_type": "code",
   "execution_count": 21,
   "metadata": {
    "scrolled": true
   },
   "outputs": [
    {
     "name": "stdout",
     "output_type": "stream",
     "text": [
      "  0.002507 seconds (10.17 k allocations: 212.609 KiB)\n"
     ]
    }
   ],
   "source": [
    "@time LahNumbers(100);"
   ]
  },
  {
   "cell_type": "code",
   "execution_count": 22,
   "metadata": {},
   "outputs": [
    {
     "data": {
      "text/html": [
       "$1200$"
      ],
      "text/latex": [
       "1200"
      ],
      "text/plain": [
       "1200"
      ]
     },
     "execution_count": 22,
     "metadata": {},
     "output_type": "execute_result"
    }
   ],
   "source": [
    "LahNumbers(n, k) = LahNumbers(n+1)[k+1]\n",
    "LahNumbers(5, 3)"
   ]
  },
  {
   "cell_type": "code",
   "execution_count": 23,
   "metadata": {},
   "outputs": [
    {
     "data": {
      "text/html": [
       "# 2 methods for generic function <b>LahNumbers</b>:<ul><li> LahNumbers(n) in Main at In[18]:3</li> <li> LahNumbers(n, k) in Main at In[22]:1</li> </ul>"
      ],
      "text/plain": [
       "# 2 methods for generic function \"LahNumbers\":\n",
       "[1] LahNumbers(n) in Main at In[18]:3\n",
       "[2] LahNumbers(n, k) in Main at In[22]:1"
      ]
     },
     "execution_count": 23,
     "metadata": {},
     "output_type": "execute_result"
    }
   ],
   "source": [
    "methods(LahNumbers)"
   ]
  },
  {
   "cell_type": "code",
   "execution_count": 24,
   "metadata": {},
   "outputs": [
    {
     "data": {
      "text/plain": [
       "LahTriangle (generic function with 1 method)"
      ]
     },
     "execution_count": 24,
     "metadata": {},
     "output_type": "execute_result"
    }
   ],
   "source": [
    "function LahTriangle(size) \n",
    "    length(cacheLah) < size && LahNumbers(size)\n",
    "    [cacheLah[n] for n in 0:size-1] \n",
    "end"
   ]
  },
  {
   "cell_type": "code",
   "execution_count": 25,
   "metadata": {},
   "outputs": [
    {
     "data": {
      "text/html": [
       "# 1 method for generic function <b>LahTriangle</b>:<ul><li> LahTriangle(size) in Main at In[24]:1</li> </ul>"
      ],
      "text/plain": [
       "# 1 method for generic function \"LahTriangle\":\n",
       "[1] LahTriangle(size) in Main at In[24]:1"
      ]
     },
     "execution_count": 25,
     "metadata": {},
     "output_type": "execute_result"
    }
   ],
   "source": [
    "methods(LahTriangle)"
   ]
  },
  {
   "cell_type": "code",
   "execution_count": 26,
   "metadata": {},
   "outputs": [
    {
     "data": {
      "text/plain": [
       "7"
      ]
     },
     "execution_count": 26,
     "metadata": {},
     "output_type": "execute_result"
    }
   ],
   "source": [
    "T = LahTriangle(7)\n",
    "length(T)"
   ]
  },
  {
   "cell_type": "code",
   "execution_count": 27,
   "metadata": {},
   "outputs": [
    {
     "data": {
      "text/plain": [
       "altsum (generic function with 2 methods)"
      ]
     },
     "execution_count": 27,
     "metadata": {},
     "output_type": "execute_result"
    }
   ],
   "source": [
    "evensum(A) = sum(A[1:2:end]) \n",
    "oddsum(A)  = sum(A[2:2:end])\n",
    "altsum(A)  = evensum(A) - oddsum(A)\n",
    "evensum(T::ℤTri) = evensum.(T)\n",
    "oddsum(T::ℤTri)  = oddsum.(T)\n",
    "altsum(T::ℤTri)  = evensum(T) - oddsum(T)"
   ]
  },
  {
   "cell_type": "code",
   "execution_count": 28,
   "metadata": {},
   "outputs": [
    {
     "name": "stdout",
     "output_type": "stream",
     "text": [
      "[1, 1, 3, 13, 73, 501, 4051, 37633, 394353, 4596553]\n",
      "[1, 0, 1, 6, 37, 260, 2101, 19362, 201097, 2326536]\n",
      "[0, 1, 2, 7, 36, 241, 1950, 18271, 193256, 2270017]\n",
      "[1, -1, -1, -1, 1, 19, 151, 1091, 7841, 56519]\n"
     ]
    }
   ],
   "source": [
    "T = LahTriangle(10)\n",
    "Println.([sum(T), evensum(T), oddsum(T), altsum(T)]);"
   ]
  },
  {
   "cell_type": "code",
   "execution_count": 29,
   "metadata": {},
   "outputs": [
    {
     "name": "stdout",
     "output_type": "stream",
     "text": [
      "[1, 0, 2, 6, 36, 240, 1200, 12600, 58800, 846720]\n"
     ]
    }
   ],
   "source": [
    "middle(A) = A[div(end + 1, 2)] \n",
    "middle(T::ℤTri) = middle.(T)\n",
    "\n",
    "middle(LahTriangle(10)) |> Println"
   ]
  },
  {
   "cell_type": "code",
   "execution_count": 30,
   "metadata": {},
   "outputs": [
    {
     "name": "stdout",
     "output_type": "stream",
     "text": [
      "[1, 2, 36, 1200, 58800, 3810240, 307359360, 29682132480]\n"
     ]
    }
   ],
   "source": [
    "central(T::ℤTri) = middle.(T[1:2:end])\n",
    "\n",
    "central(LahTriangle(16)) |> Println"
   ]
  },
  {
   "cell_type": "code",
   "execution_count": 31,
   "metadata": {},
   "outputs": [
    {
     "data": {
      "text/plain": [
       "DiagonalTriangle (generic function with 1 method)"
      ]
     },
     "execution_count": 31,
     "metadata": {},
     "output_type": "execute_result"
    }
   ],
   "source": [
    "function DiagonalTriangle(T::ℤTri)\n",
    "    dim = length(T)\n",
    "    U = ZTri(dim)\n",
    "    for n in 1:dim\n",
    "        R = ZSeq(div(n+1,2))\n",
    "        for k in 0:div(n-1,2)\n",
    "            R[k+1] = T[n-k][k+1]\n",
    "        end\n",
    "        U[n] = R\n",
    "    end\n",
    "    U\n",
    "end"
   ]
  },
  {
   "cell_type": "code",
   "execution_count": 32,
   "metadata": {},
   "outputs": [
    {
     "data": {
      "text/plain": [
       "10-element Vector{Vector{fmpz}}:\n",
       " [1]\n",
       " [0]\n",
       " [0, 1]\n",
       " [0, 2]\n",
       " [0, 6, 1]\n",
       " [0, 24, 6]\n",
       " [0, 120, 36, 1]\n",
       " [0, 720, 240, 12]\n",
       " [0, 5040, 1800, 120, 1]\n",
       " [0, 40320, 15120, 1200, 20]"
      ]
     },
     "execution_count": 32,
     "metadata": {},
     "output_type": "execute_result"
    }
   ],
   "source": [
    "T = LahTriangle(10) \n",
    "DiagonalTriangle(T)"
   ]
  },
  {
   "cell_type": "code",
   "execution_count": 33,
   "metadata": {},
   "outputs": [
    {
     "data": {
      "text/plain": [
       "9-element Vector{fmpz}:\n",
       " 1\n",
       " 0\n",
       " 1\n",
       " 2\n",
       " 7\n",
       " 30\n",
       " 157\n",
       " 972\n",
       " 6961"
      ]
     },
     "execution_count": 33,
     "metadata": {},
     "output_type": "execute_result"
    }
   ],
   "source": [
    "diagsum(T) = sum(DiagonalTriangle(T))\n",
    "diagsum(LahTriangle(9))"
   ]
  },
  {
   "cell_type": "code",
   "execution_count": 34,
   "metadata": {},
   "outputs": [
    {
     "data": {
      "text/plain": [
       "leftside (generic function with 2 methods)"
      ]
     },
     "execution_count": 34,
     "metadata": {},
     "output_type": "execute_result"
    }
   ],
   "source": [
    "leftside(A)  = A[1] \n",
    "rightside(A) = A[end] \n",
    "\n",
    "rightside(T::ℤTri) = rightside.(T)\n",
    "leftside( T::ℤTri) = leftside.(T)"
   ]
  },
  {
   "cell_type": "code",
   "execution_count": 35,
   "metadata": {},
   "outputs": [
    {
     "data": {
      "text/plain": [
       "profile (generic function with 1 method)"
      ]
     },
     "execution_count": 35,
     "metadata": {},
     "output_type": "execute_result"
    }
   ],
   "source": [
    "function profile(T::ℤTri)\n",
    "    println(\"Triangle: \");\n",
    "    for row in T Println(row) end; println()\n",
    "    print(\"Sum:      \"); sum(T)       |> Println \n",
    "    print(\"EvenSum:  \"); evensum(T)   |> Println \n",
    "    print(\"OddSum:   \"); oddsum(T)    |> Println \n",
    "    print(\"AltSum:   \"); altsum(T)    |> Println \n",
    "    print(\"DiagSum:  \"); diagsum(T)   |> Println \n",
    "    print(\"Middle:   \"); middle(T)    |> Println \n",
    "    print(\"Central:  \"); central(T)   |> Println \n",
    "    print(\"LeftSide: \"); leftside(T)  |> Println \n",
    "    print(\"RightSide:\"); rightside(T) |> Println \n",
    "end"
   ]
  },
  {
   "cell_type": "code",
   "execution_count": 36,
   "metadata": {},
   "outputs": [
    {
     "name": "stdout",
     "output_type": "stream",
     "text": [
      "Triangle: \n",
      "[1]\n",
      "[0, 1]\n",
      "[0, 2, 1]\n",
      "[0, 6, 6, 1]\n",
      "[0, 24, 36, 12, 1]\n",
      "[0, 120, 240, 120, 20, 1]\n",
      "[0, 720, 1800, 1200, 300, 30, 1]\n",
      "[0, 5040, 15120, 12600, 4200, 630, 42, 1]\n",
      "[0, 40320, 141120, 141120, 58800, 11760, 1176, 56, 1]\n",
      "[0, 362880, 1451520, 1693440, 846720, 211680, 28224, 2016, 72, 1]\n",
      "\n",
      "Sum:      [1, 1, 3, 13, 73, 501, 4051, 37633, 394353, 4596553]\n",
      "EvenSum:  [1, 0, 1, 6, 37, 260, 2101, 19362, 201097, 2326536]\n",
      "OddSum:   [0, 1, 2, 7, 36, 241, 1950, 18271, 193256, 2270017]\n",
      "AltSum:   [1, -1, -1, -1, 1, 19, 151, 1091, 7841, 56519]\n",
      "DiagSum:  [1, 0, 1, 2, 7, 30, 157, 972, 6961, 56660]\n",
      "Middle:   [1, 0, 2, 6, 36, 240, 1200, 12600, 58800, 846720]\n",
      "Central:  [1, 2, 36, 1200, 58800]\n",
      "LeftSide: [1, 0, 0, 0, 0, 0, 0, 0, 0, 0]\n",
      "RightSide:[1, 1, 1, 1, 1, 1, 1, 1, 1, 1]\n"
     ]
    }
   ],
   "source": [
    "profile(LahTriangle(10))"
   ]
  },
  {
   "cell_type": "code",
   "execution_count": 37,
   "metadata": {},
   "outputs": [
    {
     "name": "stdout",
     "output_type": "stream",
     "text": [
      "true\n"
     ]
    },
    {
     "data": {
      "text/plain": [
       "10-element Vector{Vector{fmpz}}:\n",
       " [1]\n",
       " [0, 1]\n",
       " [0, -2, 1]\n",
       " [0, 6, -6, 1]\n",
       " [0, -24, 36, -12, 1]\n",
       " [0, 120, -240, 120, -20, 1]\n",
       " [0, -720, 1800, -1200, 300, -30, 1]\n",
       " [0, 5040, -15120, 12600, -4200, 630, -42, 1]\n",
       " [0, -40320, 141120, -141120, 58800, -11760, 1176, -56, 1]\n",
       " [0, 362880, -1451520, 1693440, -846720, 211680, -28224, 2016, -72, 1]"
      ]
     },
     "execution_count": 37,
     "metadata": {},
     "output_type": "execute_result"
    }
   ],
   "source": [
    "invT = InverseTriangle(T)      \n",
    "isa(invT, ℤTri) |> println\n",
    "invT"
   ]
  },
  {
   "cell_type": "code",
   "execution_count": 38,
   "metadata": {},
   "outputs": [
    {
     "name": "stdout",
     "output_type": "stream",
     "text": [
      "[1, 6, 84, 1680, 39240, 999216, 26899896, 752939424]\n"
     ]
    }
   ],
   "source": [
    "Apery = ℤInt[\n",
    "            1,\n",
    "            5,\n",
    "            73,\n",
    "            1445,\n",
    "            33001,\n",
    "            819005,\n",
    "            21460825,\n",
    "            584307365\n",
    "        ]\n",
    "\n",
    "BinomialTransform(Apery) |> Println"
   ]
  },
  {
   "cell_type": "code",
   "execution_count": 39,
   "metadata": {},
   "outputs": [
    {
     "name": "stdout",
     "output_type": "stream",
     "text": [
      "[1]\n",
      "[0, 1]\n",
      "[0, 1, 1]\n",
      "[0, 1, 3, 1]\n",
      "[0, 1, 6, 6, 1]\n",
      "[0, 1, 10, 20, 10, 1]\n",
      "[0, 1, 15, 50, 50, 15, 1]\n",
      "[0, 1, 21, 105, 175, 105, 21, 1]\n",
      "[0, 1, 28, 196, 490, 490, 196, 28, 1]\n"
     ]
    }
   ],
   "source": [
    "T = NarayanaTriangle(8)\n",
    "Show(T)"
   ]
  },
  {
   "cell_type": "code",
   "execution_count": 40,
   "metadata": {},
   "outputs": [
    {
     "data": {
      "text/plain": [
       "true"
      ]
     },
     "execution_count": 40,
     "metadata": {},
     "output_type": "execute_result"
    }
   ],
   "source": [
    "isa(T, ℤTri) "
   ]
  },
  {
   "cell_type": "code",
   "execution_count": 41,
   "metadata": {},
   "outputs": [
    {
     "name": "stdout",
     "output_type": "stream",
     "text": [
      "\n",
      "=================\n",
      "NarayanaTriangle \n",
      "\n",
      "Triangle:  [1, 0, 1, 0, 1, 1, 0, 1]\n",
      "Sum:       [1, 1, 2, 5, 14, 42, 132, 429]\n",
      "EvenSum:   [1, 0, 1, 3, 7, 20, 66, 217]\n",
      "OddSum:    [0, 1, 1, 2, 7, 22, 66, 212]\n",
      "AltSum:    [1, -1, 0, 1, 0, -2, 0, 5]\n",
      "DiagSum:   [1, 0, 1, 1, 2, 4, 8, 17]\n",
      "Central:   [1, 1, 6, 50, 490]\n",
      "LeftSide:  [1, 0, 0, 0, 0, 0, 0, 0]\n",
      "RightSide: [1, 1, 1, 1, 1, 1, 1, 1]\n",
      "PosHalf:   [1, 1, 3, 11, 45, 197, 903, 4279]\n",
      "NegHalf:   [1, 1, -1, -1, 5, -3, -21, 51]\n",
      "PolyVal2:  [511, 3586, 29692, 275978, 2788324, 29938732, 336347712, 3911669402]\n",
      "PolyVal3:  [9841, 73812, 634776, 6059904, 62503368, 682458804, 7775247636, 91507441320]\n",
      "N0TS:      [0, 1, 3, 10, 35, 126, 462, 1716]\n",
      "NATS:      [1, 2, 5, 15, 49, 168, 594, 2145]\n",
      "\n",
      "\n",
      "Triangle:\n",
      "\n",
      "[1]\n",
      "[0, 1]\n",
      "[0, 1, 1]\n",
      "[0, 1, 3, 1]\n",
      "[0, 1, 6, 6, 1]\n",
      "[0, 1, 10, 20, 10, 1]\n",
      "[0, 1, 15, 50, 50, 15, 1]\n",
      "[0, 1, 21, 105, 175, 105, 21, 1]\n",
      "\n",
      "Flat triangle:  [1, 0, 1, 0, 1, 1, 0, 1]\n",
      "\n",
      "Inverse triangle:\n",
      "\n",
      "[1]\n",
      "[0, 1]\n",
      "[0, -1, 1]\n",
      "[0, 2, -3, 1]\n",
      "[0, -7, 12, -6, 1]\n",
      "[0, 39, -70, 40, -10, 1]\n",
      "[0, -321, 585, -350, 100, -15, 1]\n",
      "[0, 3681, -6741, 4095, -1225, 210, -21, 1]\n",
      "\n",
      "Inverse:  [1, 0, 1, 0, -1, 1, 0, 2]\n",
      "\n",
      "Diagonal triangle:\n",
      "\n",
      "[1]\n",
      "[0]\n",
      "[0, 1]\n",
      "[0, 1]\n",
      "[0, 1, 1]\n",
      "[0, 1, 3]\n",
      "[0, 1, 6, 1]\n",
      "[0, 1, 10, 6]\n",
      "\n",
      "Diagonal:  [1, 0, 0, 1, 0, 1, 0, 1]\n",
      "\n",
      "Polynomial values, array:\n",
      "\n",
      "[1, 1, 1, 1, 1, 1, 1, 1, 1]\n",
      "[0, 1, 2, 3, 4, 5, 6, 7, 8]\n",
      "[0, 2, 6, 12, 20, 30, 42, 56, 72]\n",
      "[0, 5, 22, 57, 116, 205, 330, 497, 712]\n",
      "[0, 14, 90, 300, 740, 1530, 2814, 4760, 7560]\n",
      "[0, 42, 394, 1686, 5028, 12130, 25422, 48174, 84616]\n",
      "[0, 132, 1806, 9912, 35700, 100380, 239442, 507696, 985032]\n",
      "[0, 429, 8558, 60213, 261780, 857405, 2326434, 5516133, 11814728]\n",
      "[0, 1430, 41586, 374988, 1967300, 7503330, 23151030, 61363736, 145043208]\n",
      "\n",
      "Polynomial values, triangle:\n",
      "\n",
      "[1]\n",
      "[0, 1]\n",
      "[0, 1, 1]\n",
      "[0, 2, 2, 1]\n",
      "[0, 5, 6, 3, 1]\n",
      "[0, 14, 22, 12, 4, 1]\n",
      "[0, 42, 90, 57, 20, 5, 1]\n",
      "[0, 132, 394, 300, 116, 30, 6, 1]\n",
      "\n",
      "PolyVal:  [1, 0, 1, 0, 1, 1, 0, 2]\n",
      "\n"
     ]
    }
   ],
   "source": [
    "dim = 8\n",
    "TraitCard(NarayanaTriangle, dim)"
   ]
  },
  {
   "cell_type": "code",
   "execution_count": 42,
   "metadata": {},
   "outputs": [
    {
     "name": "stdout",
     "output_type": "stream",
     "text": [
      "\n",
      "=================\n",
      "LaguerreTriangle \n",
      "\n",
      "Triangle:  [1, 1, 1, 2, 4, 1, 6, 18]\n",
      "Sum:       [1, 2, 7, 34, 209, 1546, 13327, 130922]\n",
      "EvenSum:   [1, 1, 3, 15, 97, 745, 6571, 65359]\n",
      "OddSum:    [0, 1, 4, 19, 112, 801, 6756, 65563]\n",
      "AltSum:    [1, 0, -1, -4, -15, -56, -185, -204]\n",
      "DiagSum:   [1, 1, 3, 10, 43, 225, 1393, 9976]\n",
      "Central:   [1, 4, 72, 2400]\n",
      "LeftSide:  [1, 1, 2, 6, 24, 120, 720, 5040]\n",
      "RightSide: [1, 1, 1, 1, 1, 1, 1, 1]\n",
      "PosHalf:   [1, 3, 17, 139, 1473, 19091, 291793, 5129307]\n",
      "NegHalf:   [1, -1, 1, 7, -127, 1711, -23231, 334391]\n",
      "PolyVal2:  [255, 1793, 16384, 179714, 2276866, 32531468, 515561990, 8952335236]\n",
      "PolyVal3:  [3280, 24604, 232916, 2617020, 33756348, 489160284, 7841902404, 137482567476]\n",
      "N0TS:      [0, 1, 6, 39, 292, 2505, 24306, 263431]\n",
      "NATS:      [1, 3, 13, 73, 501, 4051, 37633, 394353]\n",
      "\n",
      "\n",
      "Triangle:\n",
      "\n",
      "[1]\n",
      "[1, 1]\n",
      "[2, 4, 1]\n",
      "[6, 18, 9, 1]\n",
      "[24, 96, 72, 16, 1]\n",
      "[120, 600, 600, 200, 25, 1]\n",
      "[720, 4320, 5400, 2400, 450, 36, 1]\n",
      "[5040, 35280, 52920, 29400, 7350, 882, 49, 1]\n",
      "\n",
      "Flat triangle:  [1, 1, 1, 2, 4, 1, 6, 18]\n",
      "\n",
      "Inverse triangle:\n",
      "\n",
      "[1]\n",
      "[-1, 1]\n",
      "[2, -4, 1]\n",
      "[-6, 18, -9, 1]\n",
      "[24, -96, 72, -16, 1]\n",
      "[-120, 600, -600, 200, -25, 1]\n",
      "[720, -4320, 5400, -2400, 450, -36, 1]\n",
      "[-5040, 35280, -52920, 29400, -7350, 882, -49, 1]\n",
      "\n",
      "Inverse:  [1, -1, 1, 2, -4, 1, -6, 18]\n",
      "\n",
      "Diagonal triangle:\n",
      "\n",
      "[1]\n",
      "[1]\n",
      "[2, 1]\n",
      "[6, 4]\n",
      "[24, 18, 1]\n",
      "[120, 96, 9]\n",
      "[720, 600, 72, 1]\n",
      "[5040, 4320, 600, 16]\n",
      "\n",
      "Diagonal:  [1, 1, 2, 1, 6, 4, 24, 18]\n",
      "\n",
      "Polynomial values, array:\n",
      "\n",
      "[1, 1, 1, 1, 1, 1, 1, 1]\n",
      "[1, 2, 3, 4, 5, 6, 7, 8]\n",
      "[2, 7, 14, 23, 34, 47, 62, 79]\n",
      "[6, 34, 86, 168, 286, 446, 654, 916]\n",
      "[24, 209, 648, 1473, 2840, 4929, 7944, 12113]\n",
      "[120, 1546, 5752, 14988, 32344, 61870, 108696, 179152]\n",
      "[720, 13327, 58576, 173007, 414160, 866695, 1649232, 2921911]\n",
      "[5040, 130922, 671568, 2228544, 5876336, 13373190, 27422352, 51988748]\n",
      "\n",
      "Polynomial values, triangle:\n",
      "\n",
      "[1]\n",
      "[1, 1]\n",
      "[2, 2, 1]\n",
      "[6, 7, 3, 1]\n",
      "[24, 34, 14, 4, 1]\n",
      "[120, 209, 86, 23, 5, 1]\n",
      "[720, 1546, 648, 168, 34, 6, 1]\n",
      "[5040, 13327, 5752, 1473, 286, 47, 7, 1]\n",
      "\n",
      "PolyVal:  [1, 1, 1, 2, 2, 1, 6, 7]\n",
      "\n"
     ]
    }
   ],
   "source": [
    "TraitCard(LaguerreTriangle, dim)"
   ]
  },
  {
   "cell_type": "code",
   "execution_count": 43,
   "metadata": {},
   "outputs": [
    {
     "name": "stdout",
     "output_type": "stream",
     "text": [
      "\n",
      "=================\n",
      "MotzkinTriangle \n",
      "\n",
      "Triangle:  [1, 1, 1, 2, 2, 1, 4, 5]\n",
      "Sum:       [1, 2, 5, 13, 35, 96, 267, 750]\n",
      "EvenSum:   [1, 1, 3, 7, 19, 51, 141, 393]\n",
      "OddSum:    [0, 1, 2, 6, 16, 45, 126, 357]\n",
      "AltSum:    [1, 0, 1, 1, 3, 6, 15, 36]\n",
      "DiagSum:   [1, 1, 3, 6, 15, 36, 91, 232]\n",
      "Central:   [1, 2, 9, 44]\n",
      "LeftSide:  [1, 1, 2, 4, 9, 21, 51, 127]\n",
      "RightSide: [1, 1, 1, 1, 1, 1, 1, 1]\n",
      "PosHalf:   [1, 3, 13, 59, 285, 1419, 7245, 37659]\n",
      "NegHalf:   [1, -1, 5, -17, 77, -345, 1653, -8097]\n",
      "PolyVal2:  [255, 1793, 13308, 100878, 775339, 6019401, 47095629, 370752919]\n",
      "PolyVal3:  [3280, 24604, 190268, 1486888, 11701536, 92579016, 735578160, 5864923504]\n",
      "N0TS:      [0, 1, 4, 14, 46, 147, 462, 1437]\n",
      "NATS:      [1, 3, 9, 27, 81, 243, 729, 2187]\n",
      "\n",
      "\n",
      "Triangle:\n",
      "\n",
      "[1]\n",
      "[1, 1]\n",
      "[2, 2, 1]\n",
      "[4, 5, 3, 1]\n",
      "[9, 12, 9, 4, 1]\n",
      "[21, 30, 25, 14, 5, 1]\n",
      "[51, 76, 69, 44, 20, 6, 1]\n",
      "[127, 196, 189, 133, 70, 27, 7, 1]\n",
      "\n",
      "Flat triangle:  [1, 1, 1, 2, 2, 1, 4, 5]\n",
      "\n",
      "Inverse triangle:\n",
      "\n",
      "[1]\n",
      "[-1, 1]\n",
      "[0, -2, 1]\n",
      "[1, 1, -3, 1]\n",
      "[-1, 2, 3, -4, 1]\n",
      "[0, -4, 2, 6, -5, 1]\n",
      "[1, 2, -9, 0, 10, -6, 1]\n",
      "[-1, 3, 9, -15, -5, 15, -7, 1]\n",
      "\n",
      "Inverse:  [1, -1, 1, 0, -2, 1, 1, 1]\n",
      "\n",
      "Diagonal triangle:\n",
      "\n",
      "[1]\n",
      "[1]\n",
      "[2, 1]\n",
      "[4, 2]\n",
      "[9, 5, 1]\n",
      "[21, 12, 3]\n",
      "[51, 30, 9, 1]\n",
      "[127, 76, 25, 4]\n",
      "\n",
      "Diagonal:  [1, 1, 2, 1, 4, 2, 9, 5]\n",
      "\n",
      "Polynomial values, array:\n",
      "\n",
      "[1, 1, 1, 1, 1, 1, 1, 1]\n",
      "[1, 2, 3, 4, 5, 6, 7, 8]\n",
      "[2, 5, 10, 17, 26, 37, 50, 65]\n",
      "[4, 13, 34, 73, 136, 229, 358, 529]\n",
      "[9, 35, 117, 315, 713, 1419, 2565, 4307]\n",
      "[21, 96, 405, 1362, 3741, 8796, 18381, 35070]\n",
      "[51, 267, 1407, 5895, 19635, 54531, 131727, 285567]\n",
      "[127, 750, 4899, 25528, 103071, 338082, 944035, 2325324]\n",
      "\n",
      "Polynomial values, triangle:\n",
      "\n",
      "[1]\n",
      "[1, 1]\n",
      "[2, 2, 1]\n",
      "[4, 5, 3, 1]\n",
      "[9, 13, 10, 4, 1]\n",
      "[21, 35, 34, 17, 5, 1]\n",
      "[51, 96, 117, 73, 26, 6, 1]\n",
      "[127, 267, 405, 315, 136, 37, 7, 1]\n",
      "\n",
      "PolyVal:  [1, 1, 1, 2, 2, 1, 4, 5]\n",
      "\n"
     ]
    }
   ],
   "source": [
    "TraitCard(MotzkinTriangle, dim)"
   ]
  },
  {
   "cell_type": "code",
   "execution_count": 44,
   "metadata": {},
   "outputs": [
    {
     "name": "stdout",
     "output_type": "stream",
     "text": [
      "\n",
      "=================\n",
      "JacobsthalTriangle \n",
      "\n",
      "Triangle:  [1, 1, 1, 1, 2, 1, 3, 5]\n",
      "Sum:       [1, 2, 4, 12, 32, 88, 240, 656]\n",
      "EvenSum:   [1, 1, 2, 6, 16, 44, 120, 328]\n",
      "OddSum:    [0, 1, 2, 6, 16, 44, 120, 328]\n",
      "AltSum:    [1, 0, 0, 0, 0, 0, 0, 0]\n",
      "DiagSum:   [1, 1, 2, 5, 11, 26, 59, 137]\n",
      "Central:   [1, 2, 10, 52]\n",
      "LeftSide:  [1, 1, 1, 3, 5, 11, 21, 43]\n",
      "RightSide: [1, 1, 1, 1, 1, 1, 1, 1]\n",
      "PosHalf:   [1, 3, 9, 51, 225, 1083, 5049, 23811]\n",
      "NegHalf:   [1, -1, 1, -9, 17, -89, 225, -937]\n",
      "PolyVal2:  [255, 1793, 13053, 100623, 784041, 6167407, 48874041, 389613599]\n",
      "PolyVal3:  [3280, 24604, 186988, 1483608, 11829476, 94793360, 762691476, 6157157152]\n",
      "N0TS:      [0, 1, 4, 14, 48, 156, 496, 1544]\n",
      "NATS:      [1, 3, 8, 26, 80, 244, 736, 2200]\n",
      "\n",
      "\n",
      "Triangle:\n",
      "\n",
      "[1]\n",
      "[1, 1]\n",
      "[1, 2, 1]\n",
      "[3, 5, 3, 1]\n",
      "[5, 12, 10, 4, 1]\n",
      "[11, 27, 28, 16, 5, 1]\n",
      "[21, 62, 75, 52, 23, 6, 1]\n",
      "[43, 137, 193, 159, 85, 31, 7, 1]\n",
      "\n",
      "Flat triangle:  [1, 1, 1, 1, 2, 1, 3, 5]\n",
      "\n",
      "Inverse triangle:\n",
      "\n",
      "[1]\n",
      "[-1, 1]\n",
      "[1, -2, 1]\n",
      "[-1, 1, -3, 1]\n",
      "[1, 4, 2, -4, 1]\n",
      "[-1, -7, 10, 4, -5, 1]\n",
      "[1, -14, -25, 16, 7, -6, 1]\n",
      "[-1, 65, -21, -55, 21, 11, -7, 1]\n",
      "\n",
      "Inverse:  [1, -1, 1, 1, -2, 1, -1, 1]\n",
      "\n",
      "Diagonal triangle:\n",
      "\n",
      "[1]\n",
      "[1]\n",
      "[1, 1]\n",
      "[3, 2]\n",
      "[5, 5, 1]\n",
      "[11, 12, 3]\n",
      "[21, 27, 10, 1]\n",
      "[43, 62, 28, 4]\n",
      "\n",
      "Diagonal:  [1, 1, 1, 1, 3, 2, 5, 5]\n",
      "\n",
      "Polynomial values, array:\n",
      "\n",
      "[1, 1, 1, 1, 1, 1, 1, 1]\n",
      "[1, 2, 3, 4, 5, 6, 7, 8]\n",
      "[1, 4, 9, 16, 25, 36, 49, 64]\n",
      "[3, 12, 33, 72, 135, 228, 357, 528]\n",
      "[5, 32, 117, 320, 725, 1440, 2597, 4352]\n",
      "[11, 88, 417, 1424, 3895, 9096, 18893, 35872]\n",
      "[21, 240, 1485, 6336, 20925, 57456, 137445, 295680]\n",
      "[43, 656, 5289, 28192, 112415, 362928, 999901, 2437184]\n",
      "\n",
      "Polynomial values, triangle:\n",
      "\n",
      "[1]\n",
      "[1, 1]\n",
      "[1, 2, 1]\n",
      "[3, 4, 3, 1]\n",
      "[5, 12, 9, 4, 1]\n",
      "[11, 32, 33, 16, 5, 1]\n",
      "[21, 88, 117, 72, 25, 6, 1]\n",
      "[43, 240, 417, 320, 135, 36, 7, 1]\n",
      "\n",
      "PolyVal:  [1, 1, 1, 1, 2, 1, 3, 4]\n",
      "\n"
     ]
    }
   ],
   "source": [
    "TraitCard(JacobsthalTriangle, dim)"
   ]
  }
 ],
 "metadata": {
  "@webio": {
   "lastCommId": null,
   "lastKernelId": null
  },
  "kernelspec": {
   "display_name": "Julia 1.6.0",
   "language": "julia",
   "name": "julia-1.6"
  },
  "language_info": {
   "file_extension": ".jl",
   "mimetype": "application/julia",
   "name": "julia",
   "version": "1.6.0"
  }
 },
 "nbformat": 4,
 "nbformat_minor": 4
}
