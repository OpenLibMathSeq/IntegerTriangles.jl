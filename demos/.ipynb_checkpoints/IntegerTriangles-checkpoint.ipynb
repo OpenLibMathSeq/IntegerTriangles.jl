{
 "cells": [
  {
   "cell_type": "markdown",
   "metadata": {},
   "source": [
    "Load the package Nemo from Github. ( https://github.com/Nemocas/Nemo.jl )"
   ]
  },
  {
   "cell_type": "code",
   "execution_count": 1,
   "metadata": {},
   "outputs": [
    {
     "name": "stdout",
     "output_type": "stream",
     "text": [
      "\n",
      "Welcome to Nemo version 0.16.1\n",
      "\n",
      "Nemo comes with absolutely no warranty whatsoever\n",
      "\n"
     ]
    }
   ],
   "source": [
    "using Nemo"
   ]
  },
  {
   "cell_type": "markdown",
   "metadata": {},
   "source": [
    "Definition: A *integer triangle* is an array of arrays whose members are integers.\n",
    "\n",
    "An integer is a multiple precision integer which is created by the constructor ZZ.\n",
    "\n",
    "Two examples for the creation of an integer triangle:"
   ]
  },
  {
   "cell_type": "code",
   "execution_count": 2,
   "metadata": {},
   "outputs": [
    {
     "data": {
      "text/plain": [
       "7-element Array{Array{fmpz,1},1}:\n",
       " [0]                  \n",
       " [0, 1]               \n",
       " [0, 1, 2]            \n",
       " [0, 1, 2, 3]         \n",
       " [0, 1, 2, 3, 4]      \n",
       " [0, 1, 2, 3, 4, 5]   \n",
       " [0, 1, 2, 3, 4, 5, 6]"
      ]
     },
     "execution_count": 2,
     "metadata": {},
     "output_type": "execute_result"
    }
   ],
   "source": [
    "[[ZZ(k) for k in 0:n] for n in 0:6]"
   ]
  },
  {
   "cell_type": "markdown",
   "metadata": {},
   "source": [
    "The shape of the triangle is /not/ fixed. It includes the cases denoted by the OEIS keywords *tabl* and *tabf*. We allow the empty sequence to be element of an integer triangle."
   ]
  },
  {
   "cell_type": "code",
   "execution_count": 3,
   "metadata": {},
   "outputs": [
    {
     "data": {
      "text/plain": [
       "Array{Array{fmpz,1},1}"
      ]
     },
     "execution_count": 3,
     "metadata": {},
     "output_type": "execute_result"
    }
   ],
   "source": [
    "const IntegerSequence = Array{fmpz,1}\n",
    "const IntegerTriangle = Array{Array{fmpz,1},1}"
   ]
  },
  {
   "cell_type": "code",
   "execution_count": 4,
   "metadata": {},
   "outputs": [
    {
     "data": {
      "text/plain": [
       "ZZTriangle (generic function with 1 method)"
      ]
     },
     "execution_count": 4,
     "metadata": {},
     "output_type": "execute_result"
    }
   ],
   "source": [
    "ZZSequence(len) = Vector{fmpz}(undef, len)\n",
    "ZZTriangle(dim, undef) = Vector{IntegerSequence}(undef, dim)"
   ]
  },
  {
   "cell_type": "code",
   "execution_count": 5,
   "metadata": {},
   "outputs": [
    {
     "data": {
      "text/plain": [
       "ZZTriangle (generic function with 3 methods)"
      ]
     },
     "execution_count": 5,
     "metadata": {},
     "output_type": "execute_result"
    }
   ],
   "source": [
    "ZZTriangle(dim) = ZZSequence.(1:dim)\n",
    "ZZTriangle(dim, f::Function) = f.(0:dim-1)"
   ]
  },
  {
   "cell_type": "code",
   "execution_count": 6,
   "metadata": {},
   "outputs": [
    {
     "data": {
      "text/plain": [
       "PrimeDivisors (generic function with 1 method)"
      ]
     },
     "execution_count": 6,
     "metadata": {},
     "output_type": "execute_result"
    }
   ],
   "source": [
    "function PrimeDivisors(n) \n",
    "    n < 2 && return fmpz[]\n",
    "    sort!([p for (p, e) ∈ factor(ZZ(n))])\n",
    "end"
   ]
  },
  {
   "cell_type": "code",
   "execution_count": 7,
   "metadata": {},
   "outputs": [
    {
     "data": {
      "text/plain": [
       "9-element Array{Array{fmpz,1},1}:\n",
       " []    \n",
       " []    \n",
       " [2]   \n",
       " [3]   \n",
       " [2]   \n",
       " [5]   \n",
       " [2, 3]\n",
       " [7]   \n",
       " [2]   "
      ]
     },
     "execution_count": 7,
     "metadata": {},
     "output_type": "execute_result"
    }
   ],
   "source": [
    "ZZTriangle(9, PrimeDivisors)"
   ]
  },
  {
   "cell_type": "code",
   "execution_count": 8,
   "metadata": {},
   "outputs": [
    {
     "data": {
      "text/plain": [
       "sum (generic function with 15 methods)"
      ]
     },
     "execution_count": 8,
     "metadata": {},
     "output_type": "execute_result"
    }
   ],
   "source": [
    "import Base.sum\n",
    "sum(T::IntegerTriangle) = sum.(T)"
   ]
  },
  {
   "cell_type": "code",
   "execution_count": 9,
   "metadata": {},
   "outputs": [
    {
     "data": {
      "text/plain": [
       "8-element Array{fmpz,1}:\n",
       " 0\n",
       " 0\n",
       " 2\n",
       " 3\n",
       " 2\n",
       " 5\n",
       " 5\n",
       " 7"
      ]
     },
     "execution_count": 9,
     "metadata": {},
     "output_type": "execute_result"
    }
   ],
   "source": [
    "sum(PrimeDivisors.(0:7))"
   ]
  },
  {
   "cell_type": "code",
   "execution_count": 10,
   "metadata": {},
   "outputs": [
    {
     "data": {
      "text/plain": [
       "5-element Array{fmpz,1}:\n",
       " #undef\n",
       " #undef\n",
       " #undef\n",
       " #undef\n",
       " #undef"
      ]
     },
     "execution_count": 10,
     "metadata": {},
     "output_type": "execute_result"
    }
   ],
   "source": [
    "S = ZZSequence(5) # isa(S, IntegerSequence)"
   ]
  },
  {
   "cell_type": "code",
   "execution_count": 11,
   "metadata": {},
   "outputs": [
    {
     "data": {
      "text/plain": [
       "5-element Array{Array{fmpz,1},1}:\n",
       " #undef\n",
       " #undef\n",
       " #undef\n",
       " #undef\n",
       " #undef"
      ]
     },
     "execution_count": 11,
     "metadata": {},
     "output_type": "execute_result"
    }
   ],
   "source": [
    "T = ZZTriangle(5, undef) # isa(T, IntegerTriangle)"
   ]
  },
  {
   "cell_type": "code",
   "execution_count": 12,
   "metadata": {},
   "outputs": [
    {
     "data": {
      "text/plain": [
       "6-element Array{Array{fmpz,1},1}:\n",
       " [#undef]                                        \n",
       " [#undef, #undef]                                \n",
       " [#undef, #undef, #undef]                        \n",
       " [#undef, #undef, #undef, #undef]                \n",
       " [#undef, #undef, #undef, #undef, #undef]        \n",
       " [#undef, #undef, #undef, #undef, #undef, #undef]"
      ]
     },
     "execution_count": 12,
     "metadata": {},
     "output_type": "execute_result"
    }
   ],
   "source": [
    "T = ZZTriangle(6) # isa(T, IntegerTriangle)"
   ]
  },
  {
   "cell_type": "code",
   "execution_count": 13,
   "metadata": {
    "scrolled": true
   },
   "outputs": [
    {
     "data": {
      "text/plain": [
       "6-element Array{Array{fmpz,1},1}:\n",
       " [1]               \n",
       " [1, 2]            \n",
       " [1, 2, 3]         \n",
       " [1, 2, 3, 4]      \n",
       " [1, 2, 3, 4, 5]   \n",
       " [1, 2, 3, 4, 5, 6]"
      ]
     },
     "execution_count": 13,
     "metadata": {},
     "output_type": "execute_result"
    }
   ],
   "source": [
    "for n in 1:6 T[n] = [ZZ(k) for k in 1:n] end\n",
    "T"
   ]
  },
  {
   "cell_type": "code",
   "execution_count": 14,
   "metadata": {},
   "outputs": [
    {
     "data": {
      "text/plain": [
       "3-element Array{fmpz,1}:\n",
       " 1\n",
       " 2\n",
       " 3"
      ]
     },
     "execution_count": 14,
     "metadata": {},
     "output_type": "execute_result"
    }
   ],
   "source": [
    "T[3]"
   ]
  },
  {
   "cell_type": "code",
   "execution_count": 15,
   "metadata": {},
   "outputs": [
    {
     "data": {
      "text/plain": [
       "2"
      ]
     },
     "execution_count": 15,
     "metadata": {},
     "output_type": "execute_result"
    }
   ],
   "source": [
    "T[3][2]"
   ]
  },
  {
   "cell_type": "code",
   "execution_count": 16,
   "metadata": {},
   "outputs": [
    {
     "data": {
      "text/plain": [
       "fmpz"
      ]
     },
     "execution_count": 16,
     "metadata": {},
     "output_type": "execute_result"
    }
   ],
   "source": [
    "typeof(T[3][2])"
   ]
  },
  {
   "cell_type": "code",
   "execution_count": 17,
   "metadata": {},
   "outputs": [
    {
     "data": {
      "text/plain": [
       "true"
      ]
     },
     "execution_count": 17,
     "metadata": {},
     "output_type": "execute_result"
    }
   ],
   "source": [
    "isa(T, IntegerTriangle)"
   ]
  },
  {
   "cell_type": "markdown",
   "metadata": {},
   "source": [
    "# ----------------------------------------------"
   ]
  },
  {
   "cell_type": "code",
   "execution_count": 18,
   "metadata": {},
   "outputs": [
    {
     "data": {
      "text/plain": [
       "7-element Array{Array{fmpz,1},1}:\n",
       " [1]                             \n",
       " [0, 1]                          \n",
       " [0, 2, 1]                       \n",
       " [0, 6, 6, 1]                    \n",
       " [0, 24, 36, 12, 1]              \n",
       " [0, 120, 240, 120, 20, 1]       \n",
       " [0, 720, 1800, 1200, 300, 30, 1]"
      ]
     },
     "execution_count": 18,
     "metadata": {},
     "output_type": "execute_result"
    }
   ],
   "source": [
    "function LahIndexed(n, k)\n",
    "    function recLah(n, k)\n",
    "        k  < 0 && return ZZ(0)\n",
    "        k == n && return ZZ(1)\n",
    "        recLah(n-1, k-1) + recLah(n-1, k)*(n+k-1)\n",
    "    end\n",
    "    recLah(n, k)\n",
    "end\n",
    "\n",
    "[[LahIndexed(n, k) for k in 0:n] for n in 0:6]"
   ]
  },
  {
   "cell_type": "markdown",
   "metadata": {},
   "source": [
    "Thus LahNumbers(n) returns an n-element Array{Array{BigInt,1},1}\n",
    "which is according to our definiton a triangle with *n* rows."
   ]
  },
  {
   "cell_type": "code",
   "execution_count": 19,
   "metadata": {},
   "outputs": [
    {
     "data": {
      "text/plain": [
       "Dict{Int64,Array{fmpz,1}} with 1 entry:\n",
       "  0 => fmpz[1]"
      ]
     },
     "execution_count": 19,
     "metadata": {},
     "output_type": "execute_result"
    }
   ],
   "source": [
    "function LahNumbers(n)\n",
    "    haskey(CacheLah, n) && return CacheLah[n]\n",
    "    prevrow = LahNumbers(n-1)\n",
    "    row = Array{fmpz, 1}(undef, n+1)\n",
    "    row[1] = 0; row[n+1] = 1\n",
    "    for k in 2:n\n",
    "        row[k] = prevrow[k-1] + prevrow[k]*(n+k-2)    \n",
    "    end\n",
    "    CacheLah[n] = row\n",
    "end\n",
    "const CacheLah = Dict{Int, Array{fmpz,1}}([0 => [fmpz(1)]])"
   ]
  },
  {
   "cell_type": "code",
   "execution_count": 20,
   "metadata": {},
   "outputs": [
    {
     "data": {
      "text/plain": [
       "6-element Array{fmpz,1}:\n",
       " 0  \n",
       " 120\n",
       " 240\n",
       " 120\n",
       " 20 \n",
       " 1  "
      ]
     },
     "execution_count": 20,
     "metadata": {},
     "output_type": "execute_result"
    }
   ],
   "source": [
    "LahNumbers(5)"
   ]
  },
  {
   "cell_type": "code",
   "execution_count": 21,
   "metadata": {},
   "outputs": [
    {
     "name": "stdout",
     "output_type": "stream",
     "text": [
      "Dict(0 => [1],4 => [0, 24, 36, 12, 1],2 => [0, 2, 1],3 => [0, 6, 6, 1],5 => [0, 120, 240, 120, 20, 1],1 => [0, 1])\n"
     ]
    }
   ],
   "source": [
    "println(CacheLah)"
   ]
  },
  {
   "cell_type": "markdown",
   "metadata": {},
   "source": [
    "Let's check the time and space consumtion: "
   ]
  },
  {
   "cell_type": "code",
   "execution_count": 22,
   "metadata": {
    "scrolled": true
   },
   "outputs": [
    {
     "name": "stdout",
     "output_type": "stream",
     "text": [
      "  0.003882 seconds (10.18 k allocations: 212.766 KiB)\n"
     ]
    }
   ],
   "source": [
    "@time LahNumbers(100);"
   ]
  },
  {
   "cell_type": "code",
   "execution_count": 23,
   "metadata": {},
   "outputs": [
    {
     "data": {
      "text/plain": [
       "1200"
      ]
     },
     "execution_count": 23,
     "metadata": {},
     "output_type": "execute_result"
    }
   ],
   "source": [
    "LahNumbers(n, k) = LahNumbers(n+1)[k+1]\n",
    "LahNumbers(5, 3)"
   ]
  },
  {
   "cell_type": "code",
   "execution_count": 24,
   "metadata": {},
   "outputs": [
    {
     "data": {
      "text/html": [
       "# 2 methods for generic function <b>LahNumbers</b>:<ul><li> LahNumbers(n) in Main at In[19]:2</li> <li> LahNumbers(n, k) in Main at In[23]:1</li> </ul>"
      ],
      "text/plain": [
       "# 2 methods for generic function \"LahNumbers\":\n",
       "[1] LahNumbers(n) in Main at In[19]:2\n",
       "[2] LahNumbers(n, k) in Main at In[23]:1"
      ]
     },
     "execution_count": 24,
     "metadata": {},
     "output_type": "execute_result"
    }
   ],
   "source": [
    "methods(LahNumbers)"
   ]
  },
  {
   "cell_type": "code",
   "execution_count": 25,
   "metadata": {},
   "outputs": [
    {
     "data": {
      "text/plain": [
       "LahTriangle (generic function with 1 method)"
      ]
     },
     "execution_count": 25,
     "metadata": {},
     "output_type": "execute_result"
    }
   ],
   "source": [
    "function LahTriangle(size) \n",
    "    length(CacheLah) < size && LahNumbers(size)\n",
    "    [CacheLah[n] for n in 0:size-1] \n",
    "end"
   ]
  },
  {
   "cell_type": "code",
   "execution_count": 26,
   "metadata": {},
   "outputs": [
    {
     "data": {
      "text/html": [
       "# 1 method for generic function <b>LahTriangle</b>:<ul><li> LahTriangle(size) in Main at In[25]:2</li> </ul>"
      ],
      "text/plain": [
       "# 1 method for generic function \"LahTriangle\":\n",
       "[1] LahTriangle(size) in Main at In[25]:2"
      ]
     },
     "execution_count": 26,
     "metadata": {},
     "output_type": "execute_result"
    }
   ],
   "source": [
    "methods(LahTriangle)"
   ]
  },
  {
   "cell_type": "code",
   "execution_count": 28,
   "metadata": {},
   "outputs": [
    {
     "data": {
      "text/plain": [
       "7"
      ]
     },
     "execution_count": 28,
     "metadata": {},
     "output_type": "execute_result"
    }
   ],
   "source": [
    "T = LahTriangle(7)\n",
    "length(T)"
   ]
  },
  {
   "cell_type": "code",
   "execution_count": 29,
   "metadata": {},
   "outputs": [
    {
     "data": {
      "text/plain": [
       "7-element Array{Array{fmpz,1},1}:\n",
       " [1]                                \n",
       " [0, 1]                             \n",
       " [0, -2, 1]                         \n",
       " [0, 6, -6, 1]                      \n",
       " [0, -24, 36, -12, 1]               \n",
       " [0, 120, -240, 120, -20, 1]        \n",
       " [0, -720, 1800, -1200, 300, -30, 1]"
      ]
     },
     "execution_count": 29,
     "metadata": {},
     "output_type": "execute_result"
    }
   ],
   "source": [
    "function InverseTriangle(T)\n",
    "    dim = length(T)\n",
    "    M = zeros(BigInt, dim, dim)\n",
    "    for n in 1:dim, k in 1:n \n",
    "        M[n, k] = T[n][k] \n",
    "    end\n",
    "    IM = inv(M)\n",
    "    [[ZZ(IM[n, k]) for k in 1:n] for n in 1:dim]\n",
    "end    \n",
    "\n",
    "InverseTriangle(T)      "
   ]
  },
  {
   "cell_type": "code",
   "execution_count": 30,
   "metadata": {},
   "outputs": [
    {
     "data": {
      "text/plain": [
       "7×7 Array{Int64,2}:\n",
       " 1    0     0     0    0   0  0\n",
       " 0    1     0     0    0   0  0\n",
       " 0    2     1     0    0   0  0\n",
       " 0    6     6     1    0   0  0\n",
       " 0   24    36    12    1   0  0\n",
       " 0  120   240   120   20   1  0\n",
       " 0  720  1800  1200  300  30  1"
      ]
     },
     "execution_count": 30,
     "metadata": {},
     "output_type": "execute_result"
    }
   ],
   "source": [
    "M = [1 0 0 0 0 0 0;     \n",
    " 0 1 0 0 0 0 0;         \n",
    " 0 2 1 0 0 0 0;         \n",
    " 0 6 6 1 0 0 0;         \n",
    " 0 24 36 12 1 0 0;      \n",
    " 0 120 240 120 20 1 0;  \n",
    " 0 720 1800 1200 300 30 1]"
   ]
  },
  {
   "cell_type": "code",
   "execution_count": 35,
   "metadata": {},
   "outputs": [
    {
     "data": {
      "text/plain": [
       "7-element Array{Array{fmpz,1},1}:\n",
       " [1]                                \n",
       " [0, 1]                             \n",
       " [0, -2, 1]                         \n",
       " [0, 6, -6, 1]                      \n",
       " [0, -24, 36, -12, 1]               \n",
       " [0, 120, -240, 120, -20, 1]        \n",
       " [0, -720, 1800, -1200, 300, -30, 1]"
      ]
     },
     "execution_count": 35,
     "metadata": {},
     "output_type": "execute_result"
    }
   ],
   "source": [
    "IM = inv(M)\n",
    "IT = [[ZZ(IM[n, k]) for k in 1:n] for n in 1:7]"
   ]
  },
  {
   "cell_type": "code",
   "execution_count": 36,
   "metadata": {},
   "outputs": [
    {
     "data": {
      "text/plain": [
       "true"
      ]
     },
     "execution_count": 36,
     "metadata": {},
     "output_type": "execute_result"
    }
   ],
   "source": [
    "isa(IT, IntegerTriangle)"
   ]
  },
  {
   "cell_type": "code",
   "execution_count": 37,
   "metadata": {},
   "outputs": [
    {
     "name": "stdout",
     "output_type": "stream",
     "text": [
      "  0.000011 seconds (5 allocations: 1.031 KiB)\n"
     ]
    }
   ],
   "source": [
    "@time LahTriangle(100);"
   ]
  },
  {
   "cell_type": "markdown",
   "metadata": {},
   "source": [
    "# ================================"
   ]
  },
  {
   "cell_type": "code",
   "execution_count": 38,
   "metadata": {
    "scrolled": true
   },
   "outputs": [
    {
     "data": {
      "text/plain": [
       "9-element Array{fmpz,1}:\n",
       " 1     \n",
       " 1     \n",
       " 3     \n",
       " 13    \n",
       " 73    \n",
       " 501   \n",
       " 4051  \n",
       " 37633 \n",
       " 394353"
      ]
     },
     "execution_count": 38,
     "metadata": {},
     "output_type": "execute_result"
    }
   ],
   "source": [
    "rowsum(T) = [sum(row) for row in T]\n",
    "rowsum(LahTriangle(9))"
   ]
  },
  {
   "cell_type": "code",
   "execution_count": 39,
   "metadata": {},
   "outputs": [
    {
     "data": {
      "text/plain": [
       "9-element Array{fmpz,1}:\n",
       " 1     \n",
       " 1     \n",
       " 3     \n",
       " 13    \n",
       " 73    \n",
       " 501   \n",
       " 4051  \n",
       " 37633 \n",
       " 394353"
      ]
     },
     "execution_count": 39,
     "metadata": {},
     "output_type": "execute_result"
    }
   ],
   "source": [
    "import Base.sum\n",
    "sum(T::IntegerTriangle) = [sum(row) for row in T]\n",
    "sum(LahTriangle(9))"
   ]
  },
  {
   "cell_type": "code",
   "execution_count": 40,
   "metadata": {},
   "outputs": [
    {
     "data": {
      "text/plain": [
       "9-element Array{fmpz,1}:\n",
       " 1     \n",
       " 1     \n",
       " 3     \n",
       " 13    \n",
       " 73    \n",
       " 501   \n",
       " 4051  \n",
       " 37633 \n",
       " 394353"
      ]
     },
     "execution_count": 40,
     "metadata": {},
     "output_type": "execute_result"
    }
   ],
   "source": [
    "sum(T::IntegerTriangle) = sum.(T)\n",
    "sum(LahTriangle(9))"
   ]
  },
  {
   "cell_type": "code",
   "execution_count": 41,
   "metadata": {},
   "outputs": [],
   "source": [
    "# Make sure that Nemo version >= 16.1\n",
    "# Otherwise\n",
    "# import Base.zero\n",
    "# Base.zero(::Type{fmpz}) = ZZ(0)"
   ]
  },
  {
   "cell_type": "code",
   "execution_count": 42,
   "metadata": {},
   "outputs": [
    {
     "data": {
      "text/plain": [
       "8-element Array{fmpz,1}:\n",
       " 0\n",
       " 0\n",
       " 2\n",
       " 3\n",
       " 2\n",
       " 5\n",
       " 5\n",
       " 7"
      ]
     },
     "execution_count": 42,
     "metadata": {},
     "output_type": "execute_result"
    }
   ],
   "source": [
    "sum(PrimeDivisors.(0:7))"
   ]
  },
  {
   "cell_type": "code",
   "execution_count": 43,
   "metadata": {},
   "outputs": [
    {
     "data": {
      "text/plain": [
       "altsum (generic function with 2 methods)"
      ]
     },
     "execution_count": 43,
     "metadata": {},
     "output_type": "execute_result"
    }
   ],
   "source": [
    "evensum(A) = sum(A[1:2:end]) \n",
    "oddsum(A)  = sum(A[2:2:end])\n",
    "altsum(A)  = evensum(A) - oddsum(A)\n",
    "evensum(T::IntegerTriangle) = evensum.(T)\n",
    "oddsum(T::IntegerTriangle)  = oddsum.(T)\n",
    "altsum(T::IntegerTriangle)  = evensum(T) - oddsum(T)"
   ]
  },
  {
   "cell_type": "code",
   "execution_count": 44,
   "metadata": {},
   "outputs": [
    {
     "name": "stdout",
     "output_type": "stream",
     "text": [
      "fmpz[1, 1, 3, 13, 73, 501, 4051, 37633, 394353, 4596553]\n",
      "fmpz[1, 0, 1, 6, 37, 260, 2101, 19362, 201097, 2326536]\n",
      "fmpz[0, 1, 2, 7, 36, 241, 1950, 18271, 193256, 2270017]\n",
      "fmpz[1, -1, -1, -1, 1, 19, 151, 1091, 7841, 56519]\n"
     ]
    }
   ],
   "source": [
    "T = LahTriangle(10)\n",
    "println.([sum(T), evensum(T), oddsum(T), altsum(T)]);"
   ]
  },
  {
   "cell_type": "code",
   "execution_count": 45,
   "metadata": {},
   "outputs": [
    {
     "data": {
      "text/plain": [
       "central (generic function with 2 methods)"
      ]
     },
     "execution_count": 45,
     "metadata": {},
     "output_type": "execute_result"
    }
   ],
   "source": [
    "central(A) = A[div(end+1, 2)] \n",
    "central(T::IntegerTriangle) = central.(T[1:2:end])"
   ]
  },
  {
   "cell_type": "code",
   "execution_count": 46,
   "metadata": {},
   "outputs": [
    {
     "name": "stdout",
     "output_type": "stream",
     "text": [
      "fmpz[1, 2, 36, 1200, 58800, 3810240, 307359360, 29682132480]\n"
     ]
    }
   ],
   "source": [
    "central(LahTriangle(16)) |> println"
   ]
  },
  {
   "cell_type": "code",
   "execution_count": 47,
   "metadata": {},
   "outputs": [
    {
     "data": {
      "text/plain": [
       "diag (generic function with 1 method)"
      ]
     },
     "execution_count": 47,
     "metadata": {},
     "output_type": "execute_result"
    }
   ],
   "source": [
    "function diag(T)\n",
    "    dim = length(T)\n",
    "    U = ZZTriangle(dim)\n",
    "    for n in 1:dim\n",
    "        R = ZZSequence(div(n+1,2))\n",
    "        for k in 0:div(n-1,2)\n",
    "            R[k+1] = T[n-k][k+1]\n",
    "        end\n",
    "        U[n] = R\n",
    "    end\n",
    "    U\n",
    "end"
   ]
  },
  {
   "cell_type": "code",
   "execution_count": 48,
   "metadata": {},
   "outputs": [
    {
     "name": "stdout",
     "output_type": "stream",
     "text": [
      "true\n"
     ]
    },
    {
     "data": {
      "text/plain": [
       "10-element Array{Array{fmpz,1},1}:\n",
       " [1]                        \n",
       " [0]                        \n",
       " [0, 1]                     \n",
       " [0, 2]                     \n",
       " [0, 6, 1]                  \n",
       " [0, 24, 6]                 \n",
       " [0, 120, 36, 1]            \n",
       " [0, 720, 240, 12]          \n",
       " [0, 5040, 1800, 120, 1]    \n",
       " [0, 40320, 15120, 1200, 20]"
      ]
     },
     "execution_count": 48,
     "metadata": {},
     "output_type": "execute_result"
    }
   ],
   "source": [
    "T = LahTriangle(10) \n",
    "U = diag(T)\n",
    "isa(U, IntegerTriangle) |> println\n",
    "U"
   ]
  },
  {
   "cell_type": "code",
   "execution_count": 49,
   "metadata": {},
   "outputs": [
    {
     "data": {
      "text/plain": [
       "9-element Array{fmpz,1}:\n",
       " 1   \n",
       " 0   \n",
       " 1   \n",
       " 2   \n",
       " 7   \n",
       " 30  \n",
       " 157 \n",
       " 972 \n",
       " 6961"
      ]
     },
     "execution_count": 49,
     "metadata": {},
     "output_type": "execute_result"
    }
   ],
   "source": [
    "diagsum(T) = sum(diag(T))\n",
    "diagsum(LahTriangle(9))"
   ]
  },
  {
   "cell_type": "code",
   "execution_count": 50,
   "metadata": {},
   "outputs": [
    {
     "data": {
      "text/plain": [
       "leftside (generic function with 2 methods)"
      ]
     },
     "execution_count": 50,
     "metadata": {},
     "output_type": "execute_result"
    }
   ],
   "source": [
    "leftside(A)  = A[1] \n",
    "rightside(A) = A[end] \n",
    "\n",
    "rightside(T::IntegerTriangle) = rightside.(T)\n",
    "leftside( T::IntegerTriangle) = leftside.(T)"
   ]
  },
  {
   "cell_type": "code",
   "execution_count": 51,
   "metadata": {},
   "outputs": [
    {
     "data": {
      "text/plain": [
       "profile (generic function with 1 method)"
      ]
     },
     "execution_count": 51,
     "metadata": {},
     "output_type": "execute_result"
    }
   ],
   "source": [
    "function profile(T::IntegerTriangle)\n",
    "    println(\"Triangle: \");\n",
    "    for row in T println(row) end; println()\n",
    "    print(\"Sum:      \"); sum(T)       |> println \n",
    "    print(\"EvenSum:  \"); evensum(T)   |> println \n",
    "    print(\"OddSum:   \"); oddsum(T)    |> println \n",
    "    print(\"AltSum:   \"); altsum(T)    |> println \n",
    "    print(\"DiagSum:  \"); diagsum(T)   |> println \n",
    "    print(\"Central:  \"); central(T)   |> println \n",
    "    print(\"LeftSide: \"); leftside(T)  |> println \n",
    "    print(\"RightSide:\"); rightside(T) |> println \n",
    "end"
   ]
  },
  {
   "cell_type": "code",
   "execution_count": 52,
   "metadata": {},
   "outputs": [
    {
     "name": "stdout",
     "output_type": "stream",
     "text": [
      "Triangle: \n",
      "fmpz[1]\n",
      "fmpz[0, 1]\n",
      "fmpz[0, 2, 1]\n",
      "fmpz[0, 6, 6, 1]\n",
      "fmpz[0, 24, 36, 12, 1]\n",
      "fmpz[0, 120, 240, 120, 20, 1]\n",
      "fmpz[0, 720, 1800, 1200, 300, 30, 1]\n",
      "fmpz[0, 5040, 15120, 12600, 4200, 630, 42, 1]\n",
      "fmpz[0, 40320, 141120, 141120, 58800, 11760, 1176, 56, 1]\n",
      "fmpz[0, 362880, 1451520, 1693440, 846720, 211680, 28224, 2016, 72, 1]\n",
      "\n",
      "Sum:      fmpz[1, 1, 3, 13, 73, 501, 4051, 37633, 394353, 4596553]\n",
      "EvenSum:  fmpz[1, 0, 1, 6, 37, 260, 2101, 19362, 201097, 2326536]\n",
      "OddSum:   fmpz[0, 1, 2, 7, 36, 241, 1950, 18271, 193256, 2270017]\n",
      "AltSum:   fmpz[1, -1, -1, -1, 1, 19, 151, 1091, 7841, 56519]\n",
      "DiagSum:  fmpz[1, 0, 1, 2, 7, 30, 157, 972, 6961, 56660]\n",
      "Central:  fmpz[1, 2, 36, 1200, 58800]\n",
      "LeftSide: fmpz[1, 0, 0, 0, 0, 0, 0, 0, 0, 0]\n",
      "RightSide:fmpz[1, 1, 1, 1, 1, 1, 1, 1, 1, 1]\n"
     ]
    }
   ],
   "source": [
    "profile(LahTriangle(10))"
   ]
  },
  {
   "cell_type": "markdown",
   "metadata": {},
   "source": [
    "========================================================="
   ]
  },
  {
   "cell_type": "code",
   "execution_count": 53,
   "metadata": {},
   "outputs": [
    {
     "name": "stdout",
     "output_type": "stream",
     "text": [
      "fmpz[1, 0, 2, 6, 36, 240, 1200, 12600, 58800, 846720]\n"
     ]
    }
   ],
   "source": [
    "middle(T) = [t[div(end+1, 2)] for t in T]\n",
    "middle(LahTriangle(10)) |> println"
   ]
  },
  {
   "cell_type": "code",
   "execution_count": 54,
   "metadata": {},
   "outputs": [
    {
     "data": {
      "text/plain": [
       "bisect (generic function with 1 method)"
      ]
     },
     "execution_count": 54,
     "metadata": {},
     "output_type": "execute_result"
    }
   ],
   "source": [
    "bisect(T) = [[T[r] for r in 1:2:length(T)], [T[r] for r in 2:2:length(T)]]"
   ]
  },
  {
   "cell_type": "code",
   "execution_count": 55,
   "metadata": {},
   "outputs": [
    {
     "name": "stdout",
     "output_type": "stream",
     "text": [
      "Array{Array{fmpz,1},1}[[[1], [0, 2, 1], [0, 24, 36, 12, 1], [0, 720, 1800, 1200, 300, 30, 1], [0, 40320, 141120, 141120, 58800, 11760, 1176, 56, 1]], [[0, 1], [0, 6, 6, 1], [0, 120, 240, 120, 20, 1], [0, 5040, 15120, 12600, 4200, 630, 42, 1], [0, 362880, 1451520, 1693440, 846720, 211680, 28224, 2016, 72, 1]]]\n"
     ]
    }
   ],
   "source": [
    "bisect(LahTriangle(10)) |> println"
   ]
  },
  {
   "cell_type": "code",
   "execution_count": 56,
   "metadata": {},
   "outputs": [],
   "source": [
    "abstract type AbstractTriangle end\n",
    "\"\"\"\n",
    "A recursive triangle `RecTriangle` is a subtype of `AbstractTriangle`.\n",
    "The rows of the triangle are generated by a function `gen(n, k, prevrow)` defined for ``n ≥ 0`` and ``0 ≤ k ≤ n``. The function returns value of type Nemo.fmpz.\n",
    "\n",
    "The parameter prevrow is a function which returns the values of `row(n-1)` of the triangle and 0 if ``k < 0`` or ``k > n``. The function prevrow is provided\n",
    "by an instance of `RecTriangle` and must not be defined by the user.\n",
    "\"\"\"\n",
    "struct RecTriangle <: AbstractTriangle\n",
    "    dim::Int\n",
    "    A::Array{BigInt, 1}\n",
    "    gen::Function  # generating function\n",
    "    function RecTriangle(dim::Int, gen::Function)\n",
    "        dim <= 0 && throw(ArgumentError(\"dim has to be a positive integer.\"))\n",
    "        new(\n",
    "            dim,\n",
    "            fill(BigInt(0), dim),\n",
    "            (n::Int, k::Int, f::Function) -> gen(n, k, f)::BigInt\n",
    "        )\n",
    "    end\n",
    "end\n",
    "\n",
    "function Base.iterate(T::RecTriangle)\n",
    "    top = T.gen(0, 0, () -> undefined)\n",
    "    T.A[1] = BigInt(top)\n",
    "    ([top], 1)\n",
    "end\n",
    "\n",
    "\"\"\"\n",
    "Return the next row of the triangle.\n",
    "\"\"\"\n",
    "function Base.iterate(T::RecTriangle, n)\n",
    "    @inline prevrow(A, n) = (k) -> (k < 0 || k > n) ? BigInt(0) : A[k+1]\n",
    "    n == T.dim && return nothing\n",
    "    F(n, k) = T.gen(n, k, prevrow(T.A, n))\n",
    "    row = [F(n, k) for k ∈ 0:n]\n",
    "    for k ∈ 1:n+1\n",
    "        T.A[k] = row[k]\n",
    "    end\n",
    "    (row, n + 1)\n",
    "end\n",
    "\n",
    "Base.length(R::RecTriangle) = R.dim\n",
    "Base.eltype(R::RecTriangle) = BigInt\n"
   ]
  },
  {
   "cell_type": "code",
   "execution_count": 60,
   "metadata": {},
   "outputs": [],
   "source": [
    "const ℤ = fmpz\n",
    "\n",
    "\"\"\"\n",
    "Return an IntegerTriangle generated by a \n",
    "function `(n::Int, k::Int) → gen::fmpz` \n",
    "defined for ``0 ≤ k ≤ n`` and ``0 ≤ n <``dim. \n",
    "\"\"\"\n",
    "struct Triangle \n",
    "    dim::Int\n",
    "    generator::Function\n",
    "    function Triangle(dim::Int, gen::Function)\n",
    "        dim <= 0 && throw(ArgumentError(\"dim has to be a positive integer.\"))\n",
    "        new(dim, (n::Int, k::Int) -> gen(n, k)::ℤ)\n",
    "    end\n",
    "end\n",
    "\"\"\"\n",
    "Return the first row of the triangle.\n",
    "\"\"\"\n",
    "function Base.iterate(T::Triangle)\n",
    "    ([T.generator(0, 0)], 1)\n",
    "end\n",
    "\"\"\"\n",
    "Return the next row of the triangle (or finish if done).\n",
    "\"\"\"\n",
    "function Base.iterate(T::Triangle, n)\n",
    "    n >= T.dim && return nothing\n",
    "    ([T.generator(n, k) for k ∈ 0:n], n + 1)\n",
    "end\n",
    "Base.length(T::Triangle) = T.dim\n",
    "Base.eltype(T::Triangle) = Array{fmpz,1} "
   ]
  },
  {
   "cell_type": "code",
   "execution_count": 61,
   "metadata": {},
   "outputs": [
    {
     "ename": "TypeError",
     "evalue": "TypeError: in typeassert, expected fmpz, got Int64",
     "output_type": "error",
     "traceback": [
      "TypeError: in typeassert, expected fmpz, got Int64",
      "",
      "Stacktrace:",
      " [1] (::var\"#50#51\"{typeof(binomial)})(::Int64, ::Int64) at .\\In[60]:13",
      " [2] iterate(::Triangle) at .\\In[60]:20",
      " [3] top-level scope at .\\In[61]:1"
     ]
    }
   ],
   "source": [
    "for row in Triangle(6, binomial)\n",
    "    println(row)\n",
    "end"
   ]
  },
  {
   "cell_type": "code",
   "execution_count": 58,
   "metadata": {},
   "outputs": [
    {
     "name": "stdout",
     "output_type": "stream",
     "text": [
      "fmpz[1]\n",
      "fmpz[1, 1]\n",
      "fmpz[1, 2, 1]\n",
      "fmpz[1, 3, 3, 1]\n",
      "fmpz[1, 4, 6, 4, 1]\n",
      "fmpz[1, 5, 10, 10, 5, 1]\n"
     ]
    }
   ],
   "source": [
    "println.(Triangle(6, binom));"
   ]
  },
  {
   "cell_type": "code",
   "execution_count": 59,
   "metadata": {},
   "outputs": [
    {
     "ename": "ErrorException",
     "evalue": "invalid redefinition of constant RecTriangle",
     "output_type": "error",
     "traceback": [
      "invalid redefinition of constant RecTriangle",
      "",
      "Stacktrace:",
      " [1] top-level scope at In[59]:1"
     ]
    }
   ],
   "source": [
    "\"\"\"\n",
    "A recursive triangle `RecTriangle` is a subtype of `AbstractTriangle`.\n",
    "The rows of the triangle are generated by a function `gen(n, k, prevrow)` defined for ``n ≥ 0`` and ``0 ≤ k ≤ n``. The function returns value of type Nemo.fmpz.\n",
    "\n",
    "The parameter prevrow is a function which returns the values of `row(n-1)` of the triangle and 0 if ``k < 0`` or ``k > n``. The function prevrow is provided\n",
    "by an instance of `RecTriangle` and must not be defined by the user.\n",
    "\"\"\"\n",
    "struct RecTriangle # <: AbstractTriangle\n",
    "    dim::Int\n",
    "    A::Array{BigInt,1}\n",
    "    gen::Function  # generating function\n",
    "    function RecTriangle(dim::Int, gen::Function)\n",
    "        dim <= 0 && throw(ArgumentError(\"dim has to be a positive integer.\"))\n",
    "        new(\n",
    "            dim,\n",
    "            fill(BigInt(0), dim),\n",
    "            (n::Int, k::Int, f::Function) -> gen(n, k, f)::BigInt\n",
    "        )\n",
    "    end\n",
    "end\n",
    "\n",
    "function Base.iterate(T::RecTriangle)\n",
    "    top = T.gen(0, 0, () -> undefined)\n",
    "    T.A[1] = BigInt(top)\n",
    "    ([top], 1)\n",
    "end\n",
    "\n",
    "\"\"\"\n",
    "Return the next row of the triangle.\n",
    "\"\"\"\n",
    "function Base.iterate(T::RecTriangle, n)\n",
    "    @inline prevrow(A, n) = (k) -> (k < 0 || k > n) ? BigInt(0) : A[k+1]\n",
    "    n == T.dim && return nothing\n",
    "    F(n, k) = T.gen(n, k, prevrow(T.A, n))\n",
    "    row = [F(n, k) for k ∈ 0:n]\n",
    "    for k ∈ 1:n+1\n",
    "        T.A[k] = row[k]\n",
    "    end\n",
    "    (row, n + 1)\n",
    "end\n",
    "\n",
    "Base.length(R::RecTriangle) = R.dim\n",
    "Base.eltype(R::RecTriangle) = BigInt"
   ]
  },
  {
   "cell_type": "code",
   "execution_count": 62,
   "metadata": {},
   "outputs": [
    {
     "data": {
      "text/plain": [
       "R271703"
      ]
     },
     "execution_count": 62,
     "metadata": {},
     "output_type": "execute_result"
    }
   ],
   "source": [
    "\"\"\"\n",
    "Recurrence for A271703, Lah numbers.\n",
    "\"\"\"\n",
    "function R271703(n::Int, k::Int, prevrow::Function)\n",
    "    (k == 0 && n == 0) && return BigInt(1)\n",
    "    (k - 1 + n) * prevrow(k) + prevrow(k - 1)\n",
    "end"
   ]
  },
  {
   "cell_type": "code",
   "execution_count": 63,
   "metadata": {},
   "outputs": [
    {
     "name": "stdout",
     "output_type": "stream",
     "text": [
      "BigInt[1]\n",
      "BigInt[0, 1]\n",
      "BigInt[0, 2, 1]\n",
      "BigInt[0, 6, 6, 1]\n",
      "BigInt[0, 24, 36, 12, 1]\n",
      "BigInt[0, 120, 240, 120, 20, 1]\n"
     ]
    }
   ],
   "source": [
    "for row in RecTriangle(6, R271703)\n",
    "    println(row)\n",
    "end"
   ]
  },
  {
   "cell_type": "code",
   "execution_count": 64,
   "metadata": {},
   "outputs": [
    {
     "data": {
      "text/plain": [
       "T271703"
      ]
     },
     "execution_count": 64,
     "metadata": {},
     "output_type": "execute_result"
    }
   ],
   "source": [
    "\"\"\" \n",
    "Iterates over the first n rows of `A271703`.\n",
    "\"\"\"\n",
    "T271703(n) = RecTriangle(n, R271703)"
   ]
  },
  {
   "cell_type": "markdown",
   "metadata": {},
   "source": [
    "==================================================="
   ]
  },
  {
   "cell_type": "code",
   "execution_count": 65,
   "metadata": {},
   "outputs": [
    {
     "data": {
      "text/plain": [
       "QQPolynomials (generic function with 1 method)"
      ]
     },
     "execution_count": 65,
     "metadata": {},
     "output_type": "execute_result"
    }
   ],
   "source": [
    "const RationalSequence = Array{fmpq,1}\n",
    "const RationalTriangle = Array{Array{fmpq,1},1}\n",
    "\n",
    "const ZZPolySeq = Array{fmpz_poly,1} \n",
    "const QQPolySeq = Array{fmpq_poly,1} \n",
    "\n",
    "QQSequence(len) = Vector{fmpq}(undef, len)\n",
    "QQTriangle(dim, undef) = Vector{RationalSequence}(undef, dim)\n",
    "\n",
    "ZZPolynomials(x) = PolynomialRing(ZZ, x)\n",
    "QQPolynomials(x) = PolynomialRing(QQ, x)"
   ]
  },
  {
   "cell_type": "code",
   "execution_count": 67,
   "metadata": {},
   "outputs": [
    {
     "data": {
      "text/plain": [
       "EgfExpansion (generic function with 1 method)"
      ]
     },
     "execution_count": 67,
     "metadata": {},
     "output_type": "execute_result"
    }
   ],
   "source": [
    "# Bernoulli polynomials\n",
    "const QQPolynomialSequence = Array{fmpq_poly,1} \n",
    "\n",
    "const QQPolynomials(x) = PolynomialRing(QQ, x)\n",
    "#QQPolynomialSequence(dim) = Array{fmpq_poly,1}(undef,dim)\n",
    "\n",
    "coefficients(p) = coeff.(p, 0:degree(p)) \n",
    "coefficients(P::QQPolynomialSequence) = coefficients.(P)\n",
    "\n",
    "import Nemo.numerator\n",
    "numerator(T::RationalTriangle) = [numerator.(t) for t in T]\n",
    "\n",
    "function EgfExpansion(prec, gf::Function)\n",
    "    R, x = QQPolynomials(\"x\")\n",
    "    S, t = PowerSeriesRing(R, prec+1, \"t\")\n",
    "    ser = gf(x, t)\n",
    "    laplace(s, k) = factorial(k)*coeff(s, k)\n",
    "    coefficients(laplace.(ser, 0:prec-1))\n",
    "end"
   ]
  },
  {
   "cell_type": "code",
   "execution_count": 68,
   "metadata": {},
   "outputs": [
    {
     "data": {
      "text/plain": [
       "7-element Array{Array{fmpz,1},1}:\n",
       " [1]                             \n",
       " [0, 1]                          \n",
       " [0, 2, 1]                       \n",
       " [0, 6, 6, 1]                    \n",
       " [0, 24, 36, 12, 1]              \n",
       " [0, 120, 240, 120, 20, 1]       \n",
       " [0, 720, 1800, 1200, 300, 30, 1]"
      ]
     },
     "execution_count": 68,
     "metadata": {},
     "output_type": "execute_result"
    }
   ],
   "source": [
    "G271703(x, t) = exp(t*divexact(x, 1 - t))\n",
    "T271703(n) = EgfExpansion(n, G271703)\n",
    "numerator(T271703(7))"
   ]
  },
  {
   "cell_type": "code",
   "execution_count": 69,
   "metadata": {},
   "outputs": [
    {
     "data": {
      "text/plain": [
       "false"
      ]
     },
     "execution_count": 69,
     "metadata": {},
     "output_type": "execute_result"
    }
   ],
   "source": [
    "isa(T271703(9), IntegerTriangle)"
   ]
  },
  {
   "cell_type": "code",
   "execution_count": 70,
   "metadata": {},
   "outputs": [
    {
     "data": {
      "text/plain": [
       "EgfPolyExpansion (generic function with 1 method)"
      ]
     },
     "execution_count": 70,
     "metadata": {},
     "output_type": "execute_result"
    }
   ],
   "source": [
    "# Bernoulli polynomials\n",
    "\n",
    "function EgfPolyExpansion(prec, gf)\n",
    "    R, x = QQPolynomials(\"x\")\n",
    "    S, t = PowerSeriesRing(R, prec+1, \"t\")\n",
    "    [factorial(k)*coeff(gf(x, t), k) for k ∈ 0:prec-1]\n",
    "end"
   ]
  },
  {
   "cell_type": "code",
   "execution_count": 71,
   "metadata": {},
   "outputs": [
    {
     "data": {
      "text/plain": [
       "6-element Array{fmpq_poly,1}:\n",
       " 1                           \n",
       " x-1//2                      \n",
       " x^2-x+1//6                  \n",
       " x^3-3//2*x^2+1//2*x         \n",
       " x^4-2*x^3+x^2-1//30         \n",
       " x^5-5//2*x^4+5//3*x^3-1//6*x"
      ]
     },
     "execution_count": 71,
     "metadata": {},
     "output_type": "execute_result"
    }
   ],
   "source": [
    "egfBernoulli(x, t) = divexact(t*exp(x*t), exp(t)-1)\n",
    "BernoulliPolynomial(n) = EgfPolyExpansion(n, egfBernoulli)\n",
    "BernoulliPolynomial(6)"
   ]
  },
  {
   "cell_type": "code",
   "execution_count": 72,
   "metadata": {},
   "outputs": [
    {
     "data": {
      "text/plain": [
       "7-element Array{Array{fmpq,1},1}:\n",
       " [1]                             \n",
       " [0, 1]                          \n",
       " [0, 2, 1]                       \n",
       " [0, 6, 6, 1]                    \n",
       " [0, 24, 36, 12, 1]              \n",
       " [0, 120, 240, 120, 20, 1]       \n",
       " [0, 720, 1800, 1200, 300, 30, 1]"
      ]
     },
     "execution_count": 72,
     "metadata": {},
     "output_type": "execute_result"
    }
   ],
   "source": [
    "T271703(n) = EgfExpansion(n, G271703)\n",
    "T271703(7)"
   ]
  },
  {
   "cell_type": "code",
   "execution_count": 73,
   "metadata": {},
   "outputs": [
    {
     "data": {
      "text/plain": [
       "7-element Array{fmpq_poly,1}:\n",
       " 1                                         \n",
       " x                                         \n",
       " x^2+2*x                                   \n",
       " x^3+6*x^2+6*x                             \n",
       " x^4+12*x^3+36*x^2+24*x                    \n",
       " x^5+20*x^4+120*x^3+240*x^2+120*x          \n",
       " x^6+30*x^5+300*x^4+1200*x^3+1800*x^2+720*x"
      ]
     },
     "execution_count": 73,
     "metadata": {},
     "output_type": "execute_result"
    }
   ],
   "source": [
    "T271703(n) = EgfPolyExpansion(n, G271703)\n",
    "T271703(7)"
   ]
  },
  {
   "cell_type": "code",
   "execution_count": 74,
   "metadata": {},
   "outputs": [
    {
     "data": {
      "text/plain": [
       "7-element Array{fmpq_poly,1}:\n",
       " 1                                         \n",
       " x                                         \n",
       " x^2+2*x                                   \n",
       " x^3+6*x^2+6*x                             \n",
       " x^4+12*x^3+36*x^2+24*x                    \n",
       " x^5+20*x^4+120*x^3+240*x^2+120*x          \n",
       " x^6+30*x^5+300*x^4+1200*x^3+1800*x^2+720*x"
      ]
     },
     "execution_count": 74,
     "metadata": {},
     "output_type": "execute_result"
    }
   ],
   "source": [
    "P = T271703(7)"
   ]
  },
  {
   "cell_type": "code",
   "execution_count": 75,
   "metadata": {},
   "outputs": [
    {
     "data": {
      "text/plain": [
       "168"
      ]
     },
     "execution_count": 75,
     "metadata": {},
     "output_type": "execute_result"
    }
   ],
   "source": [
    "evaluate(P[3], 12)"
   ]
  },
  {
   "cell_type": "code",
   "execution_count": 82,
   "metadata": {},
   "outputs": [
    {
     "data": {
      "text/plain": [
       "Evaluate (generic function with 2 methods)"
      ]
     },
     "execution_count": 82,
     "metadata": {},
     "output_type": "execute_result"
    }
   ],
   "source": [
    "function Evaluate(p, x)\n",
    "    Q, z = PolynomialRing(QQ, \"z\")\n",
    "    subst(Q(p), x)\n",
    "end\n",
    "\n",
    "Evaluate(P::ZZPolySeq, x) = Evaluate.(P, x)"
   ]
  },
  {
   "cell_type": "code",
   "execution_count": 85,
   "metadata": {},
   "outputs": [
    {
     "data": {
      "text/plain": [
       "neghalf (generic function with 2 methods)"
      ]
     },
     "execution_count": 85,
     "metadata": {},
     "output_type": "execute_result"
    }
   ],
   "source": [
    "poshalf(p) = numerator((( 2)^degree(p)*Evaluate(p, 1//2)))\n",
    "neghalf(p) = numerator(((-2)^degree(p)*Evaluate(p, -1//2)))\n",
    "\n",
    "poshalf(P::ZZPolySeq) = poshalf.(P)\n",
    "neghalf(P::ZZPolySeq) = neghalf.(P)"
   ]
  },
  {
   "cell_type": "code",
   "execution_count": 86,
   "metadata": {},
   "outputs": [
    {
     "name": "stdout",
     "output_type": "stream",
     "text": [
      "fmpq_poly[1, x, x^2+2*x, x^3+6*x^2+6*x, x^4+12*x^3+36*x^2+24*x, x^5+20*x^4+120*x^3+240*x^2+120*x, x^6+30*x^5+300*x^4+1200*x^3+1800*x^2+720*x]\n"
     ]
    },
    {
     "ename": "MethodError",
     "evalue": "MethodError: no method matching degree(::Array{fmpq_poly,1})\nClosest candidates are:\n  degree(!Matched::fmpz_mpoly, !Matched::Int64) at C:\\Users\\Home\\.julia\\packages\\Nemo\\5aSWJ\\src\\flint\\fmpz_mpoly.jl:170\n  degree(!Matched::nmod_mpoly, !Matched::Int64) at C:\\Users\\Home\\.julia\\packages\\Nemo\\5aSWJ\\src\\flint\\nmod_mpoly.jl:173\n  degree(!Matched::FqFiniteField) at C:\\Users\\Home\\.julia\\packages\\Nemo\\5aSWJ\\src\\flint\\fq.jl:162\n  ...",
     "output_type": "error",
     "traceback": [
      "MethodError: no method matching degree(::Array{fmpq_poly,1})\nClosest candidates are:\n  degree(!Matched::fmpz_mpoly, !Matched::Int64) at C:\\Users\\Home\\.julia\\packages\\Nemo\\5aSWJ\\src\\flint\\fmpz_mpoly.jl:170\n  degree(!Matched::nmod_mpoly, !Matched::Int64) at C:\\Users\\Home\\.julia\\packages\\Nemo\\5aSWJ\\src\\flint\\nmod_mpoly.jl:173\n  degree(!Matched::FqFiniteField) at C:\\Users\\Home\\.julia\\packages\\Nemo\\5aSWJ\\src\\flint\\fq.jl:162\n  ...",
      "",
      "Stacktrace:",
      " [1] poshalf(::Array{fmpq_poly,1}) at .\\In[85]:1",
      " [2] top-level scope at In[86]:2"
     ]
    }
   ],
   "source": [
    "P |> println\n",
    "poshalf(P) |> println\n",
    "neghalf(P) |> println"
   ]
  },
  {
   "cell_type": "code",
   "execution_count": 100,
   "metadata": {},
   "outputs": [
    {
     "name": "stdout",
     "output_type": "stream",
     "text": [
      "[1, 1, 5, 37, 361, 4361, 62701]\n",
      "[1, 1, -3, 13, -71, 441, -2699]\n"
     ]
    }
   ],
   "source": [
    "p0(x) = 1\n",
    "p1(x) = x\n",
    "p2(x) = x^2+2*x\n",
    "p3(x) = x^3+6*x^2+6*x\n",
    "p4(x) = x^4+12*x^3+36*x^2+24*x\n",
    "p5(x) = x^5+20*x^4+120*x^3+240*x^2+120*x\n",
    "p6(x) = x^6+30*x^5+300*x^4+1200*x^3+1800*x^2+720*x\n",
    "P = [p0,p1,p2,p3,p4,p5,p6]\n",
    "[Int(2^n*P[n+1](1/2)) for n in 0:6] |> println \n",
    "[Int((-2)^n*P[n+1](-1/2)) for n in 0:6] |> println "
   ]
  },
  {
   "cell_type": "code",
   "execution_count": 87,
   "metadata": {},
   "outputs": [
    {
     "ename": "ArgumentError",
     "evalue": "ArgumentError: Package Plots not found in current path:\n- Run `import Pkg; Pkg.add(\"Plots\")` to install the Plots package.\n",
     "output_type": "error",
     "traceback": [
      "ArgumentError: Package Plots not found in current path:\n- Run `import Pkg; Pkg.add(\"Plots\")` to install the Plots package.\n",
      "",
      "Stacktrace:",
      " [1] require(::Module, ::Symbol) at .\\loading.jl:887",
      " [2] top-level scope at In[87]:1"
     ]
    }
   ],
   "source": [
    "using Plots; gr"
   ]
  },
  {
   "cell_type": "code",
   "execution_count": 104,
   "metadata": {
    "scrolled": false
   },
   "outputs": [
    {
     "data": {
      "image/svg+xml": [
       "<?xml version=\"1.0\" encoding=\"utf-8\"?>\n",
       "<svg xmlns=\"http://www.w3.org/2000/svg\" xmlns:xlink=\"http://www.w3.org/1999/xlink\" width=\"600\" height=\"400\" viewBox=\"0 0 2400 1600\">\n",
       "<defs>\n",
       "  <clipPath id=\"clip8700\">\n",
       "    <rect x=\"0\" y=\"0\" width=\"2400\" height=\"1600\"/>\n",
       "  </clipPath>\n",
       "</defs>\n",
       "<path clip-path=\"url(#clip8700)\" d=\"\n",
       "M0 1600 L2400 1600 L2400 0 L0 0  Z\n",
       "  \" fill=\"#ffffff\" fill-rule=\"evenodd\" fill-opacity=\"1\"/>\n",
       "<defs>\n",
       "  <clipPath id=\"clip8701\">\n",
       "    <rect x=\"480\" y=\"0\" width=\"1681\" height=\"1600\"/>\n",
       "  </clipPath>\n",
       "</defs>\n",
       "<path clip-path=\"url(#clip8700)\" d=\"\n",
       "M243.864 1425.62 L2352.76 1425.62 L2352.76 121.675 L243.864 121.675  Z\n",
       "  \" fill=\"#ffffff\" fill-rule=\"evenodd\" fill-opacity=\"1\"/>\n",
       "<defs>\n",
       "  <clipPath id=\"clip8702\">\n",
       "    <rect x=\"243\" y=\"121\" width=\"2110\" height=\"1305\"/>\n",
       "  </clipPath>\n",
       "</defs>\n",
       "<polyline clip-path=\"url(#clip8702)\" style=\"stroke:#000000; stroke-width:2; stroke-opacity:0.1; fill:none\" points=\"\n",
       "  243.864,1425.62 243.864,121.675 \n",
       "  \"/>\n",
       "<polyline clip-path=\"url(#clip8702)\" style=\"stroke:#000000; stroke-width:2; stroke-opacity:0.1; fill:none\" points=\"\n",
       "  634.4,1425.62 634.4,121.675 \n",
       "  \"/>\n",
       "<polyline clip-path=\"url(#clip8702)\" style=\"stroke:#000000; stroke-width:2; stroke-opacity:0.1; fill:none\" points=\"\n",
       "  1024.94,1425.62 1024.94,121.675 \n",
       "  \"/>\n",
       "<polyline clip-path=\"url(#clip8702)\" style=\"stroke:#000000; stroke-width:2; stroke-opacity:0.1; fill:none\" points=\"\n",
       "  1415.47,1425.62 1415.47,121.675 \n",
       "  \"/>\n",
       "<polyline clip-path=\"url(#clip8702)\" style=\"stroke:#000000; stroke-width:2; stroke-opacity:0.1; fill:none\" points=\"\n",
       "  1806.01,1425.62 1806.01,121.675 \n",
       "  \"/>\n",
       "<polyline clip-path=\"url(#clip8702)\" style=\"stroke:#000000; stroke-width:2; stroke-opacity:0.1; fill:none\" points=\"\n",
       "  2196.54,1425.62 2196.54,121.675 \n",
       "  \"/>\n",
       "<polyline clip-path=\"url(#clip8702)\" style=\"stroke:#000000; stroke-width:2; stroke-opacity:0.1; fill:none\" points=\"\n",
       "  243.864,1425.62 2352.76,1425.62 \n",
       "  \"/>\n",
       "<polyline clip-path=\"url(#clip8702)\" style=\"stroke:#000000; stroke-width:2; stroke-opacity:0.1; fill:none\" points=\"\n",
       "  243.864,1099.63 2352.76,1099.63 \n",
       "  \"/>\n",
       "<polyline clip-path=\"url(#clip8702)\" style=\"stroke:#000000; stroke-width:2; stroke-opacity:0.1; fill:none\" points=\"\n",
       "  243.864,773.647 2352.76,773.647 \n",
       "  \"/>\n",
       "<polyline clip-path=\"url(#clip8702)\" style=\"stroke:#000000; stroke-width:2; stroke-opacity:0.1; fill:none\" points=\"\n",
       "  243.864,447.661 2352.76,447.661 \n",
       "  \"/>\n",
       "<polyline clip-path=\"url(#clip8702)\" style=\"stroke:#000000; stroke-width:2; stroke-opacity:0.1; fill:none\" points=\"\n",
       "  243.864,121.675 2352.76,121.675 \n",
       "  \"/>\n",
       "<polyline clip-path=\"url(#clip8700)\" style=\"stroke:#000000; stroke-width:4; stroke-opacity:1; fill:none\" points=\"\n",
       "  243.864,1425.62 2352.76,1425.62 \n",
       "  \"/>\n",
       "<polyline clip-path=\"url(#clip8700)\" style=\"stroke:#000000; stroke-width:4; stroke-opacity:1; fill:none\" points=\"\n",
       "  243.864,1425.62 243.864,121.675 \n",
       "  \"/>\n",
       "<polyline clip-path=\"url(#clip8700)\" style=\"stroke:#000000; stroke-width:4; stroke-opacity:1; fill:none\" points=\"\n",
       "  243.864,1425.62 243.864,1406.06 \n",
       "  \"/>\n",
       "<polyline clip-path=\"url(#clip8700)\" style=\"stroke:#000000; stroke-width:4; stroke-opacity:1; fill:none\" points=\"\n",
       "  634.4,1425.62 634.4,1406.06 \n",
       "  \"/>\n",
       "<polyline clip-path=\"url(#clip8700)\" style=\"stroke:#000000; stroke-width:4; stroke-opacity:1; fill:none\" points=\"\n",
       "  1024.94,1425.62 1024.94,1406.06 \n",
       "  \"/>\n",
       "<polyline clip-path=\"url(#clip8700)\" style=\"stroke:#000000; stroke-width:4; stroke-opacity:1; fill:none\" points=\"\n",
       "  1415.47,1425.62 1415.47,1406.06 \n",
       "  \"/>\n",
       "<polyline clip-path=\"url(#clip8700)\" style=\"stroke:#000000; stroke-width:4; stroke-opacity:1; fill:none\" points=\"\n",
       "  1806.01,1425.62 1806.01,1406.06 \n",
       "  \"/>\n",
       "<polyline clip-path=\"url(#clip8700)\" style=\"stroke:#000000; stroke-width:4; stroke-opacity:1; fill:none\" points=\"\n",
       "  2196.54,1425.62 2196.54,1406.06 \n",
       "  \"/>\n",
       "<polyline clip-path=\"url(#clip8700)\" style=\"stroke:#000000; stroke-width:4; stroke-opacity:1; fill:none\" points=\"\n",
       "  243.864,1425.62 275.498,1425.62 \n",
       "  \"/>\n",
       "<polyline clip-path=\"url(#clip8700)\" style=\"stroke:#000000; stroke-width:4; stroke-opacity:1; fill:none\" points=\"\n",
       "  243.864,1099.63 275.498,1099.63 \n",
       "  \"/>\n",
       "<polyline clip-path=\"url(#clip8700)\" style=\"stroke:#000000; stroke-width:4; stroke-opacity:1; fill:none\" points=\"\n",
       "  243.864,773.647 275.498,773.647 \n",
       "  \"/>\n",
       "<polyline clip-path=\"url(#clip8700)\" style=\"stroke:#000000; stroke-width:4; stroke-opacity:1; fill:none\" points=\"\n",
       "  243.864,447.661 275.498,447.661 \n",
       "  \"/>\n",
       "<polyline clip-path=\"url(#clip8700)\" style=\"stroke:#000000; stroke-width:4; stroke-opacity:1; fill:none\" points=\"\n",
       "  243.864,121.675 275.498,121.675 \n",
       "  \"/>\n",
       "<g clip-path=\"url(#clip8700)\">\n",
       "<text style=\"fill:#000000; fill-opacity:1; font-family:Arial,Helvetica Neue,Helvetica,sans-serif; font-size:48px; text-anchor:middle;\" transform=\"rotate(0, 243.864, 1479.62)\" x=\"243.864\" y=\"1479.62\">-1.5</text>\n",
       "</g>\n",
       "<g clip-path=\"url(#clip8700)\">\n",
       "<text style=\"fill:#000000; fill-opacity:1; font-family:Arial,Helvetica Neue,Helvetica,sans-serif; font-size:48px; text-anchor:middle;\" transform=\"rotate(0, 634.4, 1479.62)\" x=\"634.4\" y=\"1479.62\">-1.0</text>\n",
       "</g>\n",
       "<g clip-path=\"url(#clip8700)\">\n",
       "<text style=\"fill:#000000; fill-opacity:1; font-family:Arial,Helvetica Neue,Helvetica,sans-serif; font-size:48px; text-anchor:middle;\" transform=\"rotate(0, 1024.94, 1479.62)\" x=\"1024.94\" y=\"1479.62\">-0.5</text>\n",
       "</g>\n",
       "<g clip-path=\"url(#clip8700)\">\n",
       "<text style=\"fill:#000000; fill-opacity:1; font-family:Arial,Helvetica Neue,Helvetica,sans-serif; font-size:48px; text-anchor:middle;\" transform=\"rotate(0, 1415.47, 1479.62)\" x=\"1415.47\" y=\"1479.62\">0.0</text>\n",
       "</g>\n",
       "<g clip-path=\"url(#clip8700)\">\n",
       "<text style=\"fill:#000000; fill-opacity:1; font-family:Arial,Helvetica Neue,Helvetica,sans-serif; font-size:48px; text-anchor:middle;\" transform=\"rotate(0, 1806.01, 1479.62)\" x=\"1806.01\" y=\"1479.62\">0.5</text>\n",
       "</g>\n",
       "<g clip-path=\"url(#clip8700)\">\n",
       "<text style=\"fill:#000000; fill-opacity:1; font-family:Arial,Helvetica Neue,Helvetica,sans-serif; font-size:48px; text-anchor:middle;\" transform=\"rotate(0, 2196.54, 1479.62)\" x=\"2196.54\" y=\"1479.62\">1.0</text>\n",
       "</g>\n",
       "<g clip-path=\"url(#clip8700)\">\n",
       "<text style=\"fill:#000000; fill-opacity:1; font-family:Arial,Helvetica Neue,Helvetica,sans-serif; font-size:48px; text-anchor:end;\" transform=\"rotate(0, 219.864, 1443.12)\" x=\"219.864\" y=\"1443.12\">-5.0</text>\n",
       "</g>\n",
       "<g clip-path=\"url(#clip8700)\">\n",
       "<text style=\"fill:#000000; fill-opacity:1; font-family:Arial,Helvetica Neue,Helvetica,sans-serif; font-size:48px; text-anchor:end;\" transform=\"rotate(0, 219.864, 1117.13)\" x=\"219.864\" y=\"1117.13\">-2.5</text>\n",
       "</g>\n",
       "<g clip-path=\"url(#clip8700)\">\n",
       "<text style=\"fill:#000000; fill-opacity:1; font-family:Arial,Helvetica Neue,Helvetica,sans-serif; font-size:48px; text-anchor:end;\" transform=\"rotate(0, 219.864, 791.147)\" x=\"219.864\" y=\"791.147\">0.0</text>\n",
       "</g>\n",
       "<g clip-path=\"url(#clip8700)\">\n",
       "<text style=\"fill:#000000; fill-opacity:1; font-family:Arial,Helvetica Neue,Helvetica,sans-serif; font-size:48px; text-anchor:end;\" transform=\"rotate(0, 219.864, 465.161)\" x=\"219.864\" y=\"465.161\">2.5</text>\n",
       "</g>\n",
       "<g clip-path=\"url(#clip8700)\">\n",
       "<text style=\"fill:#000000; fill-opacity:1; font-family:Arial,Helvetica Neue,Helvetica,sans-serif; font-size:48px; text-anchor:end;\" transform=\"rotate(0, 219.864, 139.175)\" x=\"219.864\" y=\"139.175\">5.0</text>\n",
       "</g>\n",
       "<g clip-path=\"url(#clip8700)\">\n",
       "<text style=\"fill:#000000; fill-opacity:1; font-family:Arial,Helvetica Neue,Helvetica,sans-serif; font-size:84px; text-anchor:middle;\" transform=\"rotate(0, 1298.31, 73.2)\" x=\"1298.31\" y=\"73.2\">Lah polynomials</text>\n",
       "</g>\n",
       "<g clip-path=\"url(#clip8700)\">\n",
       "<text style=\"fill:#000000; fill-opacity:1; font-family:Arial,Helvetica Neue,Helvetica,sans-serif; font-size:66px; text-anchor:middle;\" transform=\"rotate(0, 1298.31, 1559.48)\" x=\"1298.31\" y=\"1559.48\">x label</text>\n",
       "</g>\n",
       "<g clip-path=\"url(#clip8700)\">\n",
       "<text style=\"fill:#000000; fill-opacity:1; font-family:Arial,Helvetica Neue,Helvetica,sans-serif; font-size:66px; text-anchor:middle;\" transform=\"rotate(-90, 89.2861, 773.647)\" x=\"89.2861\" y=\"773.647\">p(x)</text>\n",
       "</g>\n",
       "<polyline clip-path=\"url(#clip8702)\" style=\"stroke:#0000ff; stroke-width:4; stroke-opacity:1; fill:none\" points=\"\n",
       "  243.864,643.253 282.918,643.253 321.971,643.253 361.025,643.253 400.078,643.253 439.132,643.253 478.185,643.253 517.239,643.253 556.293,643.253 595.346,643.253 \n",
       "  634.4,643.253 673.453,643.253 712.507,643.253 751.56,643.253 790.614,643.253 829.667,643.253 868.721,643.253 907.775,643.253 946.828,643.253 985.882,643.253 \n",
       "  1024.94,643.253 1063.99,643.253 1103.04,643.253 1142.1,643.253 1181.15,643.253 1220.2,643.253 1259.26,643.253 1298.31,643.253 1337.36,643.253 1376.42,643.253 \n",
       "  1415.47,643.253 1454.52,643.253 1493.58,643.253 1532.63,643.253 1571.68,643.253 1610.74,643.253 1649.79,643.253 1688.85,643.253 1727.9,643.253 1766.95,643.253 \n",
       "  1806.01,643.253 1845.06,643.253 1884.11,643.253 1923.17,643.253 1962.22,643.253 2001.27,643.253 2040.33,643.253 2079.38,643.253 2118.43,643.253 2157.49,643.253 \n",
       "  2196.54,643.253 2235.6,643.253 2274.65,643.253 2313.7,643.253 2352.76,643.253 \n",
       "  \"/>\n",
       "<polyline clip-path=\"url(#clip8702)\" style=\"stroke:#008000; stroke-width:8; stroke-opacity:1; fill:none\" points=\"\n",
       "  243.864,969.238 282.918,962.719 321.971,956.199 361.025,949.679 400.078,943.16 439.132,936.64 478.185,930.12 517.239,923.6 556.293,917.081 595.346,910.561 \n",
       "  634.4,904.041 673.453,897.522 712.507,891.002 751.56,884.482 790.614,877.962 829.667,871.443 868.721,864.923 907.775,858.403 946.828,851.883 985.882,845.364 \n",
       "  1024.94,838.844 1063.99,832.324 1103.04,825.805 1142.1,819.285 1181.15,812.765 1220.2,806.245 1259.26,799.726 1298.31,793.206 1337.36,786.686 1376.42,780.167 \n",
       "  1415.47,773.647 1454.52,767.127 1493.58,760.607 1532.63,754.088 1571.68,747.568 1610.74,741.048 1649.79,734.529 1688.85,728.009 1727.9,721.489 1766.95,714.969 \n",
       "  1806.01,708.45 1845.06,701.93 1884.11,695.41 1923.17,688.891 1962.22,682.371 2001.27,675.851 2040.33,669.331 2079.38,662.812 2118.43,656.292 2157.49,649.772 \n",
       "  2196.54,643.253 2235.6,636.733 2274.65,630.213 2313.7,623.693 2352.76,617.174 \n",
       "  \"/>\n",
       "<polyline clip-path=\"url(#clip8702)\" style=\"stroke:#0000ff; stroke-width:12; stroke-opacity:1; fill:none\" points=\"\n",
       "  243.864,871.443 282.918,877.636 321.971,883.178 361.025,888.068 400.078,892.306 439.132,895.892 478.185,898.825 517.239,901.107 556.293,902.737 595.346,903.715 \n",
       "  634.4,904.041 673.453,903.715 712.507,902.737 751.56,901.107 790.614,898.825 829.667,895.892 868.721,892.306 907.775,888.068 946.828,883.178 985.882,877.636 \n",
       "  1024.94,871.443 1063.99,864.597 1103.04,857.099 1142.1,848.95 1181.15,840.148 1220.2,830.694 1259.26,820.589 1298.31,809.831 1337.36,798.422 1376.42,786.36 \n",
       "  1415.47,773.647 1454.52,760.281 1493.58,746.264 1532.63,731.595 1571.68,716.273 1610.74,700.3 1649.79,683.675 1688.85,666.398 1727.9,648.468 1766.95,629.887 \n",
       "  1806.01,610.654 1845.06,590.769 1884.11,570.232 1923.17,549.043 1962.22,527.202 2001.27,504.709 2040.33,481.564 2079.38,457.767 2118.43,433.318 2157.49,408.217 \n",
       "  2196.54,382.464 2235.6,356.059 2274.65,329.002 2313.7,301.293 2352.76,272.933 \n",
       "  \"/>\n",
       "<polyline clip-path=\"url(#clip8702)\" style=\"stroke:#ff0000; stroke-width:4; stroke-opacity:1; fill:none\" stroke-dasharray=\"16, 10\" points=\"\n",
       "  243.864,626.953 282.918,660.676 321.971,693.324 361.025,724.798 400.078,755 439.132,783.834 478.185,811.2 517.239,837.002 556.293,861.141 595.346,883.52 \n",
       "  634.4,904.041 673.453,922.606 712.507,939.117 751.56,953.477 790.614,965.587 829.667,975.351 868.721,982.669 907.775,987.445 946.828,989.58 985.882,988.977 \n",
       "  1024.94,985.538 1063.99,979.165 1103.04,969.76 1142.1,957.226 1181.15,941.464 1220.2,922.378 1259.26,899.869 1298.31,873.839 1337.36,844.19 1376.42,810.826 \n",
       "  1415.47,773.647 1454.52,732.556 1493.58,687.456 1532.63,638.249 1571.68,584.836 1610.74,527.12 1649.79,465.003 1688.85,398.388 1727.9,327.177 1766.95,251.271 \n",
       "  1806.01,170.573 1845.06,84.9854 1884.11,-5.58975 1923.17,-101.25 1962.22,-202.094 2001.27,-308.219 2040.33,-419.722 2079.38,-536.702 2118.43,-659.257 2157.49,-787.483 \n",
       "  2196.54,-921.48 2235.6,-1061.34 2274.65,-1207.17 2313.7,-1359.07 2352.76,-1517.12 \n",
       "  \"/>\n",
       "<polyline clip-path=\"url(#clip8702)\" style=\"stroke:#0000ff; stroke-width:4; stroke-opacity:1; fill:none\" stroke-dasharray=\"16, 10\" points=\"\n",
       "  243.864,-473.249 282.918,-364.305 321.971,-253.026 361.025,-140.027 400.078,-25.9443 439.132,88.5672 478.185,202.833 517.239,316.157 556.293,427.828 595.346,537.111 \n",
       "  634.4,643.253 673.453,745.481 712.507,843.004 751.56,935.009 790.614,1020.67 829.667,1099.12 868.721,1169.51 907.775,1230.94 946.828,1282.5 985.882,1323.26 \n",
       "  1024.94,1352.27 1063.99,1368.57 1103.04,1371.17 1142.1,1359.05 1181.15,1331.2 1220.2,1286.57 1259.26,1224.08 1298.31,1142.66 1337.36,1041.2 1376.42,918.579 \n",
       "  1415.47,773.647 1454.52,605.242 1493.58,412.181 1532.63,193.261 1571.68,-52.7403 1610.74,-327.065 1649.79,-630.974 1688.85,-965.749 1727.9,-1332.69 1766.95,-1733.12 \n",
       "  1806.01,-2168.38 1845.06,-2639.82 1884.11,-3148.82 1923.17,-3696.79 1962.22,-4285.15 2001.27,-4915.32 2040.33,-5588.76 2079.38,-6306.96 2118.43,-7071.41 2157.49,-7883.63 \n",
       "  2196.54,-8745.14 2235.6,-9657.51 2274.65,-10622.3 2313.7,-11641.1 2352.76,-12715.6 \n",
       "  \"/>\n",
       "<polyline clip-path=\"url(#clip8702)\" style=\"stroke:#000000; stroke-width:4; stroke-opacity:1; fill:none\" stroke-dasharray=\"16, 10\" points=\"\n",
       "  243.864,-5570.85 282.918,-5324.3 321.971,-5038.52 361.025,-4716.1 400.078,-4359.86 439.132,-3972.89 478.185,-3558.53 517.239,-3120.42 556.293,-2662.44 595.346,-2188.76 \n",
       "  634.4,-1703.85 673.453,-1212.43 712.507,-719.565 751.56,-230.575 790.614,248.898 829.667,712.907 868.721,1155.19 907.775,1569.17 946.828,1947.95 985.882,2284.29 \n",
       "  1024.94,2570.64 1063.99,2799.11 1103.04,2961.43 1142.1,3049.04 1181.15,3053 1220.2,2963.99 1259.26,2772.37 1298.31,2468.12 1337.36,2040.82 1376.42,1479.72 \n",
       "  1415.47,773.647 1454.52,-88.9281 1493.58,-1119.94 1532.63,-2331.72 1571.68,-3737 1610.74,-5348.9 1649.79,-7180.99 1688.85,-9247.21 1727.9,-11562 1766.95,-14140 \n",
       "  1806.01,-16996.7 1845.06,-20147.5 1884.11,-23608.8 1923.17,-27396.9 1962.22,-31529 2001.27,-36022.4 2040.33,-40895.1 2079.38,-46165.6 2118.43,-51852.5 2157.49,-57975.4 \n",
       "  2196.54,-64553.9 2235.6,-71608.4 2274.65,-79159.7 2313.7,-87229 2352.76,-95838.2 \n",
       "  \"/>\n",
       "<path clip-path=\"url(#clip8700)\" d=\"\n",
       "M1989.93 628.555 L2280.76 628.555 L2280.76 205.195 L1989.93 205.195  Z\n",
       "  \" fill=\"#ffffff\" fill-rule=\"evenodd\" fill-opacity=\"1\"/>\n",
       "<polyline clip-path=\"url(#clip8700)\" style=\"stroke:#000000; stroke-width:4; stroke-opacity:1; fill:none\" points=\"\n",
       "  1989.93,628.555 2280.76,628.555 2280.76,205.195 1989.93,205.195 1989.93,628.555 \n",
       "  \"/>\n",
       "<polyline clip-path=\"url(#clip8700)\" style=\"stroke:#0000ff; stroke-width:4; stroke-opacity:1; fill:none\" points=\"\n",
       "  2013.93,265.675 2157.93,265.675 \n",
       "  \"/>\n",
       "<g clip-path=\"url(#clip8700)\">\n",
       "<text style=\"fill:#000000; fill-opacity:1; font-family:Arial,Helvetica Neue,Helvetica,sans-serif; font-size:48px; text-anchor:start;\" transform=\"rotate(0, 2181.93, 283.175)\" x=\"2181.93\" y=\"283.175\">y1</text>\n",
       "</g>\n",
       "<polyline clip-path=\"url(#clip8700)\" style=\"stroke:#008000; stroke-width:8; stroke-opacity:1; fill:none\" points=\"\n",
       "  2013.93,326.155 2157.93,326.155 \n",
       "  \"/>\n",
       "<g clip-path=\"url(#clip8700)\">\n",
       "<text style=\"fill:#000000; fill-opacity:1; font-family:Arial,Helvetica Neue,Helvetica,sans-serif; font-size:48px; text-anchor:start;\" transform=\"rotate(0, 2181.93, 343.655)\" x=\"2181.93\" y=\"343.655\">y2</text>\n",
       "</g>\n",
       "<polyline clip-path=\"url(#clip8700)\" style=\"stroke:#0000ff; stroke-width:12; stroke-opacity:1; fill:none\" points=\"\n",
       "  2013.93,386.635 2157.93,386.635 \n",
       "  \"/>\n",
       "<g clip-path=\"url(#clip8700)\">\n",
       "<text style=\"fill:#000000; fill-opacity:1; font-family:Arial,Helvetica Neue,Helvetica,sans-serif; font-size:48px; text-anchor:start;\" transform=\"rotate(0, 2181.93, 404.135)\" x=\"2181.93\" y=\"404.135\">y3</text>\n",
       "</g>\n",
       "<polyline clip-path=\"url(#clip8700)\" style=\"stroke:#ff0000; stroke-width:4; stroke-opacity:1; fill:none\" stroke-dasharray=\"16, 10\" points=\"\n",
       "  2013.93,447.115 2157.93,447.115 \n",
       "  \"/>\n",
       "<g clip-path=\"url(#clip8700)\">\n",
       "<text style=\"fill:#000000; fill-opacity:1; font-family:Arial,Helvetica Neue,Helvetica,sans-serif; font-size:48px; text-anchor:start;\" transform=\"rotate(0, 2181.93, 464.615)\" x=\"2181.93\" y=\"464.615\">y4</text>\n",
       "</g>\n",
       "<polyline clip-path=\"url(#clip8700)\" style=\"stroke:#0000ff; stroke-width:4; stroke-opacity:1; fill:none\" stroke-dasharray=\"16, 10\" points=\"\n",
       "  2013.93,507.595 2157.93,507.595 \n",
       "  \"/>\n",
       "<g clip-path=\"url(#clip8700)\">\n",
       "<text style=\"fill:#000000; fill-opacity:1; font-family:Arial,Helvetica Neue,Helvetica,sans-serif; font-size:48px; text-anchor:start;\" transform=\"rotate(0, 2181.93, 525.095)\" x=\"2181.93\" y=\"525.095\">y5</text>\n",
       "</g>\n",
       "<polyline clip-path=\"url(#clip8700)\" style=\"stroke:#000000; stroke-width:4; stroke-opacity:1; fill:none\" stroke-dasharray=\"16, 10\" points=\"\n",
       "  2013.93,568.075 2157.93,568.075 \n",
       "  \"/>\n",
       "<g clip-path=\"url(#clip8700)\">\n",
       "<text style=\"fill:#000000; fill-opacity:1; font-family:Arial,Helvetica Neue,Helvetica,sans-serif; font-size:48px; text-anchor:start;\" transform=\"rotate(0, 2181.93, 585.575)\" x=\"2181.93\" y=\"585.575\">y6</text>\n",
       "</g>\n",
       "</svg>\n"
      ]
     },
     "execution_count": 104,
     "metadata": {},
     "output_type": "execute_result"
    }
   ],
   "source": [
    "x = -1.5:0.05:1.2\n",
    "y1 = x -> 1\n",
    "y2 = x -> x\n",
    "y3 = x -> x^2+2*x                                   \n",
    "y4 = x -> x^3+6*x^2+6*x                             \n",
    "y5 = x -> x^4+12*x^3+36*x^2+24*x                    \n",
    "y6 = x -> x^5+20*x^4+120*x^3+240*x^2+120*x          \n",
    "y7 = x -> x^6+30*x^5+300*x^4+1200*x^3+1800*x^2+720*x\n",
    "\n",
    "plot(x,  y1, c=\"blue\", linewidth=1)\n",
    "plot!(x, y2, c=\"green\", linewidth=2)\n",
    "plot!(x, y3, c=\"blue\", linewidth=3)\n",
    "plot!(x, y4, c=\"red\",  line=:dash)\n",
    "plot!(x, y5, c=\"blue\",  line=:dash)\n",
    "plot!(x, y6, c=\"black\",  line=:dash)\n",
    "#plot!(x, y7, c=\"green\",  line=:dash)\n",
    "title!(\"Lah polynomials\")\n",
    "xlabel!(\"x\")\n",
    "ylabel!(\"p(x)\")\n",
    "\n",
    "# axis limit\n",
    "plot!(xlims=(-1.5,1.2), ylims=(-5.0, 5.0))\n",
    "#plot!(xlims=(-20,20), ylims=(-20.0, 20.0))"
   ]
  },
  {
   "cell_type": "markdown",
   "metadata": {},
   "source": [
    "myFunction.(collection_of_stuff) \n",
    "\n",
    "= map(myFunction, collection_of_stuff) \n",
    "\n",
    "= [myFunction(i) for i in collection_of_stuff]"
   ]
  },
  {
   "cell_type": "code",
   "execution_count": 98,
   "metadata": {},
   "outputs": [
    {
     "data": {
      "text/plain": [
       "8-element Array{Array{Int64,1},1}:\n",
       " [1]                      \n",
       " [1, 1]                   \n",
       " [1, 1, 1]                \n",
       " [0, 1, 3, 1]             \n",
       " [-1, 0, 1, 2, 1]         \n",
       " [0, -1, 0, 5, 5, 1]      \n",
       " [1, 0, -1, 0, 5, 3, 1]   \n",
       " [0, 1, 0, -7, 0, 7, 7, 1]"
      ]
     },
     "execution_count": 98,
     "metadata": {},
     "output_type": "execute_result"
    }
   ],
   "source": [
    "#Array{fmpq,1}\n",
    "T = [[1], [1//2, 1], [1//6, 1, 1], [0, 1//2, 3//2, 1], [-1//30, 0, 1, 2, 1], [0, -1//6, 0, 5//3, 5//2, 1], [1//42, 0, -1//2, 0, 5//2, 3, 1], [0, 1//6, 0, -7//6, 0, 7//2, 7//2, 1]]\n",
    "[numerator.(t) for t in T]"
   ]
  },
  {
   "cell_type": "code",
   "execution_count": 65,
   "metadata": {},
   "outputs": [
    {
     "data": {
      "text/plain": [
       "DeléhamΔ (generic function with 1 method)"
      ]
     },
     "execution_count": 65,
     "metadata": {},
     "output_type": "execute_result"
    }
   ],
   "source": [
    "function DeléhamΔ(dim::Int, s::Function, t::Function)\n",
    "          T = ZZTriangle(dim)\n",
    "          R, x = ZZPolyRing(\"x\")\n",
    "          A = [R(s(k) + x * t(k)) for k ∈ 0:dim-2]\n",
    "          C = [R(1) for i ∈ 0:dim]; C[1] = R(0)\n",
    "          m = 1\n",
    "          for k ∈ 0:dim-1\n",
    "              for j ∈ k+1:-1:2\n",
    "                  C[j] = C[j-1] + C[j+1] * A[j-1]\n",
    "              end\n",
    "              T[m] = [coeff(C[2], j) for j ∈ 0:k]\n",
    "              m += 1\n",
    "          end\n",
    "          T\n",
    "      end"
   ]
  },
  {
   "cell_type": "code",
   "execution_count": 66,
   "metadata": {},
   "outputs": [
    {
     "name": "stdout",
     "output_type": "stream",
     "text": [
      "Array{fmpz,1}[[1], [0, 1], [0, 2, 1], [0, 6, 4, 1], [0, 22, 16, 6, 1], [0, 90, 68, 30, 8, 1], [0, 394, 304, 146, 48, 10, 1]]\n"
     ]
    },
    {
     "data": {
      "text/plain": [
       "true"
      ]
     },
     "execution_count": 66,
     "metadata": {},
     "output_type": "execute_result"
    }
   ],
   "source": [
    "s(n) = iszero(n) ? 0 : isodd(n) ? 2 : 1\n",
    "bSchröder(dim) = DeléhamΔ(dim, s , n -> 0^n)\n",
    "bSchröder(7) |> println \n",
    "isa(bSchröder(7) , IntegerTriangle)"
   ]
  },
  {
   "cell_type": "code",
   "execution_count": 67,
   "metadata": {},
   "outputs": [
    {
     "name": "stdout",
     "output_type": "stream",
     "text": [
      "fmpz[1, 0, 0, 0, 0, 0, 0, 0, 0, 0, 0, 0, 0, 0, 0, 0]\n"
     ]
    }
   ],
   "source": [
    "leftside(bSchröder(16)) |> println"
   ]
  },
  {
   "cell_type": "code",
   "execution_count": 68,
   "metadata": {},
   "outputs": [
    {
     "name": "stdout",
     "output_type": "stream",
     "text": [
      "fmpz[1, 1, 1, 1, 1, 1, 1, 1, 1, 1, 1, 1, 1, 1, 1, 1]\n"
     ]
    }
   ],
   "source": [
    "rightside(bSchröder(16)) |> println"
   ]
  },
  {
   "cell_type": "code",
   "execution_count": 69,
   "metadata": {},
   "outputs": [
    {
     "name": "stdout",
     "output_type": "stream",
     "text": [
      "Triangle: \n",
      "fmpz[1]\n",
      "fmpz[0, 1]\n",
      "fmpz[0, 2, 1]\n",
      "fmpz[0, 6, 4, 1]\n",
      "fmpz[0, 22, 16, 6, 1]\n",
      "fmpz[0, 90, 68, 30, 8, 1]\n",
      "fmpz[0, 394, 304, 146, 48, 10, 1]\n",
      "fmpz[0, 1806, 1412, 714, 264, 70, 12, 1]\n",
      "fmpz[0, 8558, 6752, 3534, 1408, 430, 96, 14, 1]\n",
      "fmpz[0, 41586, 33028, 17718, 7432, 2490, 652, 126, 16, 1]\n",
      "\n",
      "Sum:      fmpz[1, 1, 3, 11, 45, 197, 903, 4279, 20793, 103049]\n",
      "EvenSum:  fmpz[1, 0, 1, 4, 17, 76, 353, 1688, 8257, 41128]\n",
      "OddSum:   fmpz[0, 1, 2, 7, 28, 121, 550, 2591, 12536, 61921]\n",
      "AltSum:   fmpz[1, -1, -1, -3, -11, -45, -197, -903, -4279, -20793]\n",
      "DiagSum:  fmpz[1, 0, 1, 2, 7, 26, 107, 468, 2141, 10124]\n",
      "Central:  fmpz[1, 2, 16, 146, 1408]\n",
      "LeftSide: fmpz[1, 0, 0, 0, 0, 0, 0, 0, 0, 0]\n",
      "RightSide:fmpz[1, 1, 1, 1, 1, 1, 1, 1, 1, 1]\n"
     ]
    }
   ],
   "source": [
    "profile(bSchröder(10))          "
   ]
  },
  {
   "cell_type": "code",
   "execution_count": 70,
   "metadata": {},
   "outputs": [
    {
     "data": {
      "text/plain": [
       "stirlings2 (generic function with 1 method)"
      ]
     },
     "execution_count": 70,
     "metadata": {},
     "output_type": "execute_result"
    }
   ],
   "source": [
    "# From JuliaMath/Combinatorics/numbers.jl\n",
    "    function stirlings1(n::Int, k::Int, signed::Bool=false)\n",
    "        signed == true && return (-1)^(n - k) * stirlings1(n, k)\n",
    "        if n < 0 throw(DomainError(n, \"n must be nonnegative\"))\n",
    "        elseif n == k == 0 return 1\n",
    "        elseif n == 0 || k == 0  return 0\n",
    "        elseif n == k return 1\n",
    "        elseif k == 1 return factorial(n-1)\n",
    "        elseif k == n - 1 return binomial(n, 2)\n",
    "        elseif k == n - 2 return div((3 * n - 1) * binomial(n, 3), 4)\n",
    "        elseif k == n - 3 return binomial(n, 2) * binomial(n, 4)\n",
    "        end\n",
    "        return (n - 1) * stirlings1(n - 1, k) + stirlings1(n - 1, k - 1)\n",
    "    end\n",
    "\n",
    "    # From JuliaMath/Combinatorics/numbers.jl\n",
    "    function stirlings2(n::Int, k::Int)\n",
    "        if n < 0 throw(DomainError(n, \"n must be nonnegative\"))\n",
    "        elseif n == k == 0 return 1\n",
    "        elseif n == 0 || k == 0 return 0\n",
    "        elseif k == n - 1 return binomial(n, 2)\n",
    "        elseif k == 2 return 2^(n-1) - 1\n",
    "        end\n",
    "        return k * stirlings2(n - 1, k) + stirlings2(n - 1, k - 1)\n",
    "    end\n"
   ]
  },
  {
   "cell_type": "code",
   "execution_count": 71,
   "metadata": {},
   "outputs": [
    {
     "data": {
      "text/plain": [
       "8-element Array{Array{fmpz,1},1}:\n",
       " [1]                             \n",
       " [0, 1]                          \n",
       " [0, 1, 1]                       \n",
       " [0, 1, 3, 1]                    \n",
       " [0, 1, 7, 6, 1]                 \n",
       " [0, 1, 15, 25, 10, 1]           \n",
       " [0, 1, 31, 90, 65, 15, 1]       \n",
       " [0, 1, 63, 301, 350, 140, 21, 1]"
      ]
     },
     "execution_count": 71,
     "metadata": {},
     "output_type": "execute_result"
    }
   ],
   "source": [
    "function StirlingSetNumber(dim)\n",
    "    T = ZZTriangle(dim)\n",
    "    for n in 1:dim, k in 1:n\n",
    "        T[n][k] = stirlings2(n-1, k-1)\n",
    "    end\n",
    "    T\n",
    "end\n",
    "StirlingSetNumber(8)"
   ]
  },
  {
   "cell_type": "code",
   "execution_count": 73,
   "metadata": {},
   "outputs": [
    {
     "data": {
      "text/plain": [
       "8-element Array{Array{fmpz,1},1}:\n",
       " [1]                                  \n",
       " [1, 1]                               \n",
       " [1, 3, 1]                            \n",
       " [1, 7, 6, 1]                         \n",
       " [1, 15, 25, 10, 1]                   \n",
       " [1, 31, 90, 65, 15, 1]               \n",
       " [1, 63, 301, 350, 140, 21, 1]        \n",
       " [1, 127, 966, 1701, 1050, 266, 28, 1]"
      ]
     },
     "execution_count": 73,
     "metadata": {},
     "output_type": "execute_result"
    }
   ],
   "source": [
    "function StirlingSetTriangle(dim)\n",
    "    T = ZZTriangle(dim)\n",
    "    for n in 1:dim, k in 1:n\n",
    "        T[n][k] = stirlings2(n, k)\n",
    "    end\n",
    "    T\n",
    "end\n",
    "StirlingSetTriangle(8)"
   ]
  },
  {
   "cell_type": "code",
   "execution_count": 74,
   "metadata": {},
   "outputs": [
    {
     "data": {
      "text/plain": [
       "8-element Array{Array{fmpz,1},1}:\n",
       " [1]                                         \n",
       " [1, 1]                                      \n",
       " [2, 3, 1]                                   \n",
       " [6, 11, 6, 1]                               \n",
       " [24, 50, 35, 10, 1]                         \n",
       " [120, 274, 225, 85, 15, 1]                  \n",
       " [720, 1764, 1624, 735, 175, 21, 1]          \n",
       " [5040, 13068, 13132, 6769, 1960, 322, 28, 1]"
      ]
     },
     "execution_count": 74,
     "metadata": {},
     "output_type": "execute_result"
    }
   ],
   "source": [
    "function StirlingCycleTriangle(dim)\n",
    "    T = ZZTriangle(dim)\n",
    "    for n in 1:dim, k in 1:n\n",
    "        T[n][k] = stirlings1(n, k)\n",
    "    end\n",
    "    T\n",
    "end\n",
    "StirlingCycleTriangle(8)"
   ]
  },
  {
   "cell_type": "code",
   "execution_count": 72,
   "metadata": {
    "scrolled": true
   },
   "outputs": [
    {
     "ename": "UndefVarError",
     "evalue": "UndefVarError: StirlingCycleTriangle not defined",
     "output_type": "error",
     "traceback": [
      "UndefVarError: StirlingCycleTriangle not defined",
      "",
      "Stacktrace:",
      " [1] top-level scope at In[72]:1"
     ]
    }
   ],
   "source": [
    "profile(StirlingCycleTriangle(10))"
   ]
  },
  {
   "cell_type": "code",
   "execution_count": 75,
   "metadata": {},
   "outputs": [
    {
     "name": "stdout",
     "output_type": "stream",
     "text": [
      "Triangle: \n",
      "fmpz[1]\n",
      "fmpz[1, 1]\n",
      "fmpz[1, 3, 1]\n",
      "fmpz[1, 7, 6, 1]\n",
      "fmpz[1, 15, 25, 10, 1]\n",
      "fmpz[1, 31, 90, 65, 15, 1]\n",
      "fmpz[1, 63, 301, 350, 140, 21, 1]\n",
      "fmpz[1, 127, 966, 1701, 1050, 266, 28, 1]\n",
      "fmpz[1, 255, 3025, 7770, 6951, 2646, 462, 36, 1]\n",
      "fmpz[1, 511, 9330, 34105, 42525, 22827, 5880, 750, 45, 1]\n",
      "\n",
      "Sum:      fmpz[1, 2, 5, 15, 52, 203, 877, 4140, 21147, 115975]\n",
      "EvenSum:  fmpz[1, 1, 2, 7, 27, 106, 443, 2045, 10440, 57781]\n",
      "OddSum:   fmpz[0, 1, 3, 8, 25, 97, 434, 2095, 10707, 58194]\n",
      "AltSum:   fmpz[1, 0, -1, -1, 2, 9, 9, -50, -267, -413]\n",
      "DiagSum:  fmpz[1, 1, 2, 4, 9, 22, 58, 164, 495, 1587]\n",
      "Central:  fmpz[1, 3, 25, 350, 6951]\n",
      "LeftSide: fmpz[1, 1, 1, 1, 1, 1, 1, 1, 1, 1]\n",
      "RightSide:fmpz[1, 1, 1, 1, 1, 1, 1, 1, 1, 1]\n"
     ]
    }
   ],
   "source": [
    "profile(StirlingSetTriangle(10))"
   ]
  },
  {
   "cell_type": "markdown",
   "metadata": {},
   "source": [
    "Sum:       ~A000142 1, 2, 6, 24, 120, 720, 5040, 40320, 362880, 3628800]\n",
    "EvenSum:   ~A001710 1, 1, 3, 12, 60, 360, 2520, 20160, 181440, 1814400]\n",
    "OddSum:    ~A001710 0, 1, 3, 12, 60, 360, 2520, 20160, 181440, 1814400]\n",
    "AltSum:     A000007 1, 0, 0, 0, 0, 0, 0, 0, 0, 0]\n",
    "DiagSum: !! A237653 1, 1, 3, 9, 36, 176, 1030, 7039, 55098, 486346]\n",
    "Central: !! A129505 1, 3, 35, 735, 22449]\n",
    "LeftSide:   A000142 1, 1, 2, 6, 24, 120, 720, 5040, 40320, 362880]\n",
    "RightSide:  A000012 1, 1, 1, 1, 1, 1, 1, 1, 1, 1]"
   ]
  },
  {
   "cell_type": "code",
   "execution_count": 77,
   "metadata": {},
   "outputs": [
    {
     "data": {
      "text/plain": [
       "55-element Array{fmpz,1}:\n",
       " 1      \n",
       " 0      \n",
       " 1      \n",
       " 0      \n",
       " 2      \n",
       " 1      \n",
       " 0      \n",
       " 6      \n",
       " 6      \n",
       " 1      \n",
       " 0      \n",
       " 24     \n",
       " 36     \n",
       " ⋮      \n",
       " 56     \n",
       " 1      \n",
       " 0      \n",
       " 362880 \n",
       " 1451520\n",
       " 1693440\n",
       " 846720 \n",
       " 211680 \n",
       " 28224  \n",
       " 2016   \n",
       " 72     \n",
       " 1      "
      ]
     },
     "execution_count": 77,
     "metadata": {},
     "output_type": "execute_result"
    }
   ],
   "source": [
    "collect(Iterators.flatten(T))"
   ]
  },
  {
   "cell_type": "code",
   "execution_count": null,
   "metadata": {},
   "outputs": [],
   "source": [
    "================================================"
   ]
  },
  {
   "cell_type": "code",
   "execution_count": 112,
   "metadata": {},
   "outputs": [],
   "source": [
    "for sym in [:foo, :bar, :baz, :bam]\n",
    "    @eval function $(Symbol(string(\"func_\", sym)))(n::Int)\n",
    "        println($(string(sym)))\n",
    "    end\n",
    "end"
   ]
  },
  {
   "cell_type": "code",
   "execution_count": 113,
   "metadata": {},
   "outputs": [
    {
     "name": "stdout",
     "output_type": "stream",
     "text": [
      "bam\n"
     ]
    }
   ],
   "source": [
    "func_bam(2)"
   ]
  },
  {
   "cell_type": "code",
   "execution_count": 114,
   "metadata": {},
   "outputs": [
    {
     "name": "stdout",
     "output_type": "stream",
     "text": [
      "bar\n"
     ]
    }
   ],
   "source": [
    "t = func_bar(7)"
   ]
  },
  {
   "cell_type": "code",
   "execution_count": 115,
   "metadata": {},
   "outputs": [
    {
     "data": {
      "text/plain": [
       ":(a - b)"
      ]
     },
     "execution_count": 115,
     "metadata": {},
     "output_type": "execute_result"
    }
   ],
   "source": [
    "ex = :(a - b)"
   ]
  },
  {
   "cell_type": "code",
   "execution_count": 117,
   "metadata": {},
   "outputs": [
    {
     "data": {
      "text/plain": [
       "Expr"
      ]
     },
     "execution_count": 117,
     "metadata": {},
     "output_type": "execute_result"
    }
   ],
   "source": [
    "typeof(ex)"
   ]
  },
  {
   "cell_type": "code",
   "execution_count": 118,
   "metadata": {},
   "outputs": [
    {
     "name": "stdout",
     "output_type": "stream",
     "text": [
      "Expr\n",
      "  head: Symbol call\n",
      "  args: Array{Any}((3,))\n",
      "    1: Symbol -\n",
      "    2: Symbol a\n",
      "    3: Symbol b\n"
     ]
    }
   ],
   "source": [
    "dump(ex)"
   ]
  },
  {
   "cell_type": "code",
   "execution_count": 121,
   "metadata": {},
   "outputs": [
    {
     "data": {
      "text/plain": [
       ":(x->begin\n",
       "          #= In[121]:1 =#\n",
       "          2x\n",
       "      end)"
      ]
     },
     "execution_count": 121,
     "metadata": {},
     "output_type": "execute_result"
    }
   ],
   "source": [
    "y = :(x -> 2*x)"
   ]
  },
  {
   "cell_type": "code",
   "execution_count": 122,
   "metadata": {},
   "outputs": [
    {
     "name": "stdout",
     "output_type": "stream",
     "text": [
      "Expr\n",
      "  head: Symbol ->\n",
      "  args: Array{Any}((2,))\n",
      "    1: Symbol x\n",
      "    2: Expr\n",
      "      head: Symbol block\n",
      "      args: Array{Any}((2,))\n",
      "        1: LineNumberNode\n",
      "          line: Int64 1\n",
      "          file: Symbol In[121]\n",
      "        2: Expr\n",
      "          head: Symbol call\n",
      "          args: Array{Any}((3,))\n",
      "            1: Symbol *\n",
      "            2: Int64 2\n",
      "            3: Symbol x\n"
     ]
    }
   ],
   "source": [
    "dump(y)"
   ]
  },
  {
   "cell_type": "code",
   "execution_count": 124,
   "metadata": {},
   "outputs": [
    {
     "data": {
      "text/plain": [
       ":((Symbol[:str])(Any))"
      ]
     },
     "execution_count": 124,
     "metadata": {},
     "output_type": "execute_result"
    }
   ],
   "source": [
    " Expr(:call, [:str], Any)"
   ]
  },
  {
   "cell_type": "code",
   "execution_count": null,
   "metadata": {},
   "outputs": [],
   "source": [
    "===================================="
   ]
  },
  {
   "cell_type": "code",
   "execution_count": 125,
   "metadata": {},
   "outputs": [
    {
     "data": {
      "text/plain": [
       "create_function_expr (generic function with 1 method)"
      ]
     },
     "execution_count": 125,
     "metadata": {},
     "output_type": "execute_result"
    }
   ],
   "source": [
    "function_name = :foobar\n",
    "sig = (Int, Float64, Int32)\n",
    "variables = [:a, :q, :d]\n",
    "body = :(a + q * d)\n",
    "\n",
    "function create_function_expr(function_name, sig, variables, body)\n",
    "    Expr(:function, \n",
    "        Expr(:call,\n",
    "            function_name,\n",
    "            [Expr(:(::), s, t) for (s, t) in zip(variables, sig)]...),\n",
    "        body\n",
    "    )\n",
    "end"
   ]
  },
  {
   "cell_type": "code",
   "execution_count": 130,
   "metadata": {},
   "outputs": [
    {
     "data": {
      "text/plain": [
       ":(function foobar(a::Int64, q::Float64, d::Int32)\n",
       "      a + q * d\n",
       "  end)"
      ]
     },
     "execution_count": 130,
     "metadata": {},
     "output_type": "execute_result"
    }
   ],
   "source": [
    "create_function_expr(function_name, sig, variables, body)"
   ]
  },
  {
   "cell_type": "code",
   "execution_count": 131,
   "metadata": {},
   "outputs": [
    {
     "data": {
      "text/plain": [
       "foobar (generic function with 1 method)"
      ]
     },
     "execution_count": 131,
     "metadata": {},
     "output_type": "execute_result"
    }
   ],
   "source": [
    "eval(create_function_expr(function_name, sig, variables, body))"
   ]
  },
  {
   "cell_type": "code",
   "execution_count": 128,
   "metadata": {},
   "outputs": [
    {
     "data": {
      "text/plain": [
       "7.0"
      ]
     },
     "execution_count": 128,
     "metadata": {},
     "output_type": "execute_result"
    }
   ],
   "source": [
    "foobar(1, 2.0, Int32(3))"
   ]
  },
  {
   "cell_type": "code",
   "execution_count": null,
   "metadata": {},
   "outputs": [],
   "source": [
    "==========================\n",
    "https://discourse.julialang.org/t/metaprogramming-defining-a-function/15491/26"
   ]
  }
 ],
 "metadata": {
  "@webio": {
   "lastCommId": null,
   "lastKernelId": null
  },
  "kernelspec": {
   "display_name": "Julia 1.3.0",
   "language": "julia",
   "name": "julia-1.3"
  },
  "language_info": {
   "file_extension": ".jl",
   "mimetype": "application/julia",
   "name": "julia",
   "version": "1.3.0"
  }
 },
 "nbformat": 4,
 "nbformat_minor": 2
}
